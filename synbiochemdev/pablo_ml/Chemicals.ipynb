{
 "cells": [
  {
   "cell_type": "markdown",
   "metadata": {},
   "source": [
    "\n",
    "\n",
    "\n",
    "# Chemical Solubility prediction by NN\n",
    "\n",
    "\n",
    "  -Since the dataset is not linearly separable, the logistic regression algorithm is not suggested for the data. Here we implemented an normal neural network(NN) method.The general methodology is referenced by the tutorial codes.\n",
    "\n",
    "  -picture of NN presentation and fomulas here\n",
    "\n",
    "**Notation**:\n",
    "- Superscript $[l]$ denotes a quantity associated with the $l^{th}$ layer. \n",
    "    - Example: $a^{[L]}$ is the $L^{th}$ layer activation. $W^{[L]}$ and $b^{[L]}$ are the $L^{th}$ layer parameters.\n",
    "- Superscript $(i)$ denotes a quantity associated with the $i^{th}$ example. \n",
    "    - Example: $x^{(i)}$ is the $i^{th}$ training example.\n",
    "- Lowerscript $i$ denotes the $i^{th}$ entry of a vector.\n",
    "    - Example: $a^{[l]}_i$ denotes the $i^{th}$ entry of the $l^{th}$ layer's activations).\n",
    "\n",
    "<font color=black size=3 face=\"aria\">  </font>\n",
    "\n"
   ]
  },
  {
   "cell_type": "markdown",
   "metadata": {},
   "source": [
    "# 1 - Load_chemicals\n",
    "\n",
    "- The chemicals are incoded in SMILES based on ECFP4\n",
    "- These functions to load the chemicals for a deep neural network for chemicals' solubility classification.\n",
    "\n",
    "**After this segment you will be able to:**\n",
    "- The chemical structure is in SMILES format.\n",
    "- Get a panda.dataframe of chemical names, solubility and SMILES.\n"
   ]
  },
  {
   "cell_type": "code",
   "execution_count": 46,
   "metadata": {},
   "outputs": [],
   "source": [
    "\"\"\" Import_packages\"\"\"\n",
    "from rdkit import Chem\n",
    "from rdkit.Chem import AllChem\n",
    "from rdkit.Chem.Draw import IPythonConsole\n",
    "from IPython.display import SVG\n",
    "from sklearn.cross_validation import train_test_split\n",
    "import numpy as np\n",
    "from scipy.stats import norm\n",
    "import time\n",
    "from sklearn.neighbors.kde import KernelDensity\n",
    "import matplotlib.pyplot as plt\n",
    "import pandas as pd\n",
    "import csv\n",
    "from synbioTools import tensorChem"
   ]
  },
  {
   "cell_type": "code",
   "execution_count": 47,
   "metadata": {},
   "outputs": [],
   "source": [
    "\"\"\" Read csv file and return it as a panda dataframe(dictionary) \"\"\"\n",
    "def read_csv(path):\n",
    "    \"\"\" Read csv, return a panda dataframe(dictionary) \"\"\"\n",
    "    df = pd.read_csv(path)\n",
    "    return df\n"
   ]
  },
  {
   "cell_type": "code",
   "execution_count": 48,
   "metadata": {
    "scrolled": true
   },
   "outputs": [],
   "source": [
    "\"\"\"Load chemicals information and convert the chemical info to SMILES format \"\"\"\n",
    "def load_chemicals(path):\n",
    "    \n",
    "    SolubilityData = read_csv(path) # read csv\n",
    "    \n",
    "    chems=[] # variable to store the \n",
    "    \n",
    "#     print(\"List loaded:\\n\") # view the list\n",
    "#     print(SolubilityData)\n",
    "    \n",
    "    # change column names of \n",
    "    SolubilityData.rename(columns={ SolubilityData.columns[1]: \"Solubility\" }, inplace=True)\n",
    "    SolubilityData.rename(columns={ SolubilityData.columns[0]: \"Compound\" }, inplace=True)\n",
    "    SolubilityData.rename(columns={ SolubilityData.columns[2]: \"SMILES\" }, inplace=True)\n",
    "    \n",
    "    for row in range(0,len(SolubilityData['SMILES'])):\n",
    "        chems.append( Chem.MolFromSmiles(SolubilityData['SMILES'][row] ) )\n",
    "    SolubilityData['SMILES'] = chems\n",
    "    return SolubilityData # return the data list which contains the three input\n",
    "\n",
    "#     chems = SolubilityData['SMILES'] # read columns\n",
    "#     compounds =  SolubilityData['Compound ID']\n",
    "#     solubilities = SolubilityData['measured log(solubility:mol/L)']\n",
    "    \n",
    "#     data = {\"chems\": chems,\n",
    "#             \"compounds\": compounds,\n",
    "#             \"solubilities\": solubilities,\n",
    "\n",
    "\n",
    "data = load_chemicals(\"C:/Users/DR/Desktop/P2/Latent-master/data/solubility/delaney.csv\")"
   ]
  },
  {
   "cell_type": "code",
   "execution_count": 49,
   "metadata": {},
   "outputs": [
    {
     "data": {
      "image/png": "[encoded data removed]",
      "text/plain": [
       "<rdkit.Chem.rdchem.Mol at 0x13733e90>"
      ]
     },
     "execution_count": 49,
     "metadata": {},
     "output_type": "execute_result"
    }
   ],
   "source": [
    "\"\"\"Visualize chemical in SMILES format\"\"\"\n",
    "data['SMILES'][1]"
   ]
  },
  {
   "cell_type": "markdown",
   "metadata": {},
   "source": [
    "# 2 - Convert SMILES into fingerprint\n",
    "\n",
    "- The chemicals are incoded in SMILES based on ECFP4\n",
    "- These functions to convert chemicals in SMILES format to fingerprints\n",
    "\n",
    "**After this segment you will be able to:**\n",
    "- The chemical structure is in fingerprint binary vector.\n",
    "- Use rdkit to calculate the fingerprint and map into a binary vector.\n",
    "- Flatten the vector into a two-dimention binary vector as a tensor.\n",
    "\n",
    "\n",
    "**Imported RDKFingerprint function from Chem:**\n",
    "\n",
    "Function: Returns an RDKit topological fingerprint for a molecule\n",
    "\n",
    "ARGUMENTS for RDKFingerprint:\n",
    "    \n",
    "        - mol: the molecule to use\n",
    "    \n",
    "        - minPath: (optional) minimum number of bonds to include in the subgraphs\n",
    "          Defaults to 1.\n",
    "    \n",
    "        - maxPath: (optional) maximum number of bonds to include in the subgraphs\n",
    "          Defaults to 7.\n",
    "    \n",
    "        - fpSize: (optional) number of bits in the fingerprint\n",
    "          Defaults to 2048.\n",
    "          \n"
   ]
  },
  {
   "cell_type": "code",
   "execution_count": 50,
   "metadata": {},
   "outputs": [
    {
     "name": "stdout",
     "output_type": "stream",
     "text": [
      "[0, 0, 1, 0, 0, 0, 1, 0, 0, 0, 1, 0, 0, 0, 0, 0, 0, 0, 0, 0]\n",
      "[0, 0, 1, 0, 0, 0, 1, 0, 0, 0, 1, 0, 0, 0, 0, 0, 0, 0, 0, 0]\n"
     ]
    }
   ],
   "source": [
    "\"\"\"Fingerprints in different depth: see how max and min depth affect the SMILES binary vector\"\"\"\n",
    "pix=AllChem.RDKFingerprint(data['SMILES'][11], 1, 1, fpSize=20)\n",
    "fpix = [int(x) for x in list(pix.ToBitString())]\n",
    "print(fpix)\n",
    "fpix=AllChem.RDKFingerprint(data['SMILES'][11], 5, 5, fpSize=20)\n",
    "fpix = [int(x) for x in list(pix.ToBitString())]\n",
    "print(fpix)"
   ]
  },
  {
   "cell_type": "code",
   "execution_count": 51,
   "metadata": {},
   "outputs": [
    {
     "data": {
      "text/plain": [
       "'Convert SMILES into fingerprint\\ndef chemFP(chem, FINGERPRINT_SIZE, MIN_PATH, MAX_PATH):\\n    tmp=[]\\n    length=[]\\n    fpix=AllChem.RDKFingerprint(chem[0], minPath=MIN_PATH, maxPath=MAX_PATH, fpSize=FINGERPRINT_SIZE)\\n    fpix = [int(x) for x in list(fpix.ToBitString())]\\n    for i in range(1,len(chem)):\\n        tmp = AllChem.RDKFingerprint(chem[i], minPath=MIN_PATH, maxPath=MAX_PATH, fpSize=FINGERPRINT_SIZE) # convert SMILE to fingerprint    \\n        tmp = [int(x) for x in list(tmp.ToBitString())] # convert footprint object to binary vector\\n        length.append(len(tmp)) # append length of each fingerprint\\n        fpix=np.vstack((fpix,tmp)) # stack each fingerprint\\n    return length,fpix\\n\\n# Test the function\\nminPath = 1 \\nmaxPath = 5\\nfpSize = 1024\\nlength,px = chemFP(data[\\'SMILES\\'], fpSize, minPath, maxPath)\\n\\n# plot the fingerprint length distribution\\nplt.plot(np.squeeze(length))\\nplt.ylabel(\\'length\\')\\nplt.xlabel(\\'fingerprints\\')\\nplt.title(\"fingerprint length distribution\" )\\nplt.show()'"
      ]
     },
     "execution_count": 51,
     "metadata": {},
     "output_type": "execute_result"
    }
   ],
   "source": [
    "\"\"\"Convert SMILES into fingerprint\n",
    "def chemFP(chem, FINGERPRINT_SIZE, MIN_PATH, MAX_PATH):\n",
    "    tmp=[]\n",
    "    length=[]\n",
    "    fpix=AllChem.RDKFingerprint(chem[0], minPath=MIN_PATH, maxPath=MAX_PATH, fpSize=FINGERPRINT_SIZE)\n",
    "    fpix = [int(x) for x in list(fpix.ToBitString())]\n",
    "    for i in range(1,len(chem)):\n",
    "        tmp = AllChem.RDKFingerprint(chem[i], minPath=MIN_PATH, maxPath=MAX_PATH, fpSize=FINGERPRINT_SIZE) # convert SMILE to fingerprint    \n",
    "        tmp = [int(x) for x in list(tmp.ToBitString())] # convert footprint object to binary vector\n",
    "        length.append(len(tmp)) # append length of each fingerprint\n",
    "        fpix=np.vstack((fpix,tmp)) # stack each fingerprint\n",
    "    return length,fpix\n",
    "\n",
    "# Test the function\n",
    "minPath = 1 \n",
    "maxPath = 5\n",
    "fpSize = 1024\n",
    "length,px = chemFP(data['SMILES'], fpSize, minPath, maxPath)\n",
    "\n",
    "# plot the fingerprint length distribution\n",
    "plt.plot(np.squeeze(length))\n",
    "plt.ylabel('length')\n",
    "plt.xlabel('fingerprints')\n",
    "plt.title(\"fingerprint length distribution\" )\n",
    "plt.show()\"\"\""
   ]
  },
  {
   "cell_type": "code",
   "execution_count": 52,
   "metadata": {},
   "outputs": [],
   "source": [
    "\"\"\"Convert SMILES into fingerprint\"\"\"\n",
    "def chemFP(chem, FINGERPRINT_SIZE, MIN_PATH=1, MAX_PATH=5):\n",
    "    fpix = AllChem.RDKFingerprint(chem, minPath=MIN_PATH, maxPath=MAX_PATH, fpSize=FINGERPRINT_SIZE)    \n",
    "    fpix = [int(x) for x in list(fpix.ToBitString())]\n",
    "    return fpix"
   ]
  },
  {
   "cell_type": "code",
   "execution_count": 53,
   "metadata": {},
   "outputs": [],
   "source": [
    "\"\"\" Encode a chemical as a tensor by concatenating fingerprints up to desired depth \"\"\"\n",
    "def tensorChem(chems, FINGERPRINT_SIZE, CHEMDEPTH):\n",
    "    TRAIN_BATCH_SIZE = len(chems)   \n",
    "    Xs = np.zeros( (TRAIN_BATCH_SIZE, FINGERPRINT_SIZE, CHEMDEPTH) )\n",
    "    # print(Xs.shape)\n",
    "    for i in range(0, len(chems)-1):\n",
    "        for k in range(0, CHEMDEPTH):\n",
    "            fpix = chemFP(chems[i],FINGERPRINT_SIZE, k+1, k+1)\n",
    "            Xs[i, :, k] = fpix\n",
    "    return Xs\n"
   ]
  },
  {
   "cell_type": "code",
   "execution_count": 54,
   "metadata": {},
   "outputs": [
    {
     "name": "stdout",
     "output_type": "stream",
     "text": [
      "The original vector shape:\n",
      "(1144, 1024, 4)\n",
      "The flattened vector shape:\n",
      " (4096, 1144)\n",
      "The solubility vector shape:\n",
      " (1, 1144)\n"
     ]
    }
   ],
   "source": [
    "\"\"\" Flatten the tensor into a two dimentional vector(feature mapping) \"\"\"\n",
    "# The original vector shape\n",
    "depth = 4\n",
    "train_y_b4=np.zeros((1,len(data['Solubility'])))\n",
    "fpSize = 1024\n",
    "tc = tensorChem(data['SMILES'],fpSize, depth)\n",
    "print('The original vector shape:\\n'+str(tc.shape))\n",
    "# The flattened vector shape\n",
    "train_x_flatten = tc.reshape(tc.shape[0], -1).T\n",
    "print('The flattened vector shape:\\n '+str(train_x_flatten.shape))\n",
    "# The shape of label vector\n",
    "train_y_b4[0]=np.squeeze(data['Solubility'])\n",
    "print('The solubility vector shape:\\n '+str(train_y_b4.shape))\n"
   ]
  },
  {
   "cell_type": "code",
   "execution_count": 58,
   "metadata": {},
   "outputs": [],
   "source": [
    "# # Visualize the data:\n",
    "# plt.scatter(train_x_flatten[0],train_x_flatten[1], c=train_y[0], s=40, cmap=plt.cm.Spectral);\n",
    "# # Here we should add PCA#####################################################\n",
    "# \"\"\"This dataset is a little noisy, but it looks like a diagonal line separating the\n",
    "# upper left half (blue) from the lower right half (red) would work well.\"\"\""
   ]
  },
  {
   "cell_type": "code",
   "execution_count": 57,
   "metadata": {},
   "outputs": [],
   "source": [
    "# \"\"\" Visualize tensor vector \"\"\"\n",
    "# %matplotlib inline\n",
    "# import matplotlib.pyplot as plt\n",
    "# plt.imshow(tc[0,:,:])\n",
    "# plt.set_cmap('hot')\n",
    "# plt.xlabel('depth')\n",
    "# plt.ylabel('fingerprint')"
   ]
  },
  {
   "cell_type": "markdown",
   "metadata": {},
   "source": [
    "# 3 - Label Standarlization\n",
    "\n",
    "- The solubility are measured as log(solubility:mol/L)\n",
    "- These functions aim at feature scaling and mean normalize the solubility.\n",
    "\n",
    "**After this segment you will be able to:**\n",
    "- Find a threshold of the solubility.\n",
    "- Chemical solubility prediction can be considered a binary classification task where a classifier should discriminate between soluble chemicals (positive samples) and insoluble chemicals (negative samples). The boudary of the two classes is a specific value of solubility.\n"
   ]
  },
  {
   "cell_type": "code",
   "execution_count": 59,
   "metadata": {},
   "outputs": [
    {
     "data": {
      "image/png": "[encoded data removed]",
      "text/plain": [
       "<Figure size 432x288 with 1 Axes>"
      ]
     },
     "metadata": {},
     "output_type": "display_data"
    }
   ],
   "source": [
    "\"\"\" Visualize solubility \"\"\"\n",
    "# plot the solubility distribution\n",
    "plt.plot(np.squeeze(train_y_b4))\n",
    "plt.ylabel('solubility')\n",
    "plt.xlabel('fingerprints')\n",
    "plt.title(\"fingerprint and solubility distribution\" )\n",
    "plt.show()"
   ]
  },
  {
   "cell_type": "code",
   "execution_count": 60,
   "metadata": {},
   "outputs": [
    {
     "name": "stdout",
     "output_type": "stream",
     "text": [
      "The mean of the solubility is: -3.0579973776223777\n",
      "The S.D. of the solubility is: 2.0955854254462576\n"
     ]
    },
    {
     "name": "stderr",
     "output_type": "stream",
     "text": [
      "C:\\Users\\DR\\Anaconda3\\envs\\my-rdkit-env\\lib\\site-packages\\matplotlib\\axes\\_axes.py:6462: UserWarning: The 'normed' kwarg is deprecated, and has been replaced by the 'density' kwarg.\n",
      "  warnings.warn(\"The 'normed' kwarg is deprecated, and has been \"\n"
     ]
    },
    {
     "data": {
      "text/plain": [
       "'In statistics, kernel density estimation (KDE) is a non-parametric way to estimate the probability density function \\nof a random variable. Kernel density estimation is a fundamental data smoothing problem where inferences about the population\\nare made, based on a finite data sample.'"
      ]
     },
     "execution_count": 60,
     "metadata": {},
     "output_type": "execute_result"
    },
    {
     "data": {
      "image/png": "[encoded data removed]",
      "text/plain": [
       "<Figure size 432x288 with 1 Axes>"
      ]
     },
     "metadata": {},
     "output_type": "display_data"
    }
   ],
   "source": [
    "# plot the histogram of solubility\n",
    "import seaborn as sns\n",
    "train_y_plot = pd.Series( np.squeeze(train_y_b4), name=\"Solubility\")\n",
    "mean = train_y_b4.mean()\n",
    "std = train_y_b4.std()\n",
    "print(\"The mean of the solubility is: \" + str(mean))\n",
    "print(\"The S.D. of the solubility is: \" + str(std))\n",
    "sns.distplot(train_y_plot, kde=True, rug=True, hist=True)\n",
    "\"\"\"In statistics, kernel density estimation (KDE) is a non-parametric way to estimate the probability density function \n",
    "of a random variable. Kernel density estimation is a fundamental data smoothing problem where inferences about the population\n",
    "are made, based on a finite data sample.\"\"\""
   ]
  },
  {
   "cell_type": "code",
   "execution_count": 61,
   "metadata": {},
   "outputs": [
    {
     "name": "stdout",
     "output_type": "stream",
     "text": [
      "There are 606 soluble chemicals (positive samples) and 538 insoluble chemicals (negative samples).\n"
     ]
    },
    {
     "data": {
      "image/png": "[encoded data removed]",
      "text/plain": [
       "<Figure size 432x288 with 1 Axes>"
      ]
     },
     "metadata": {},
     "output_type": "display_data"
    }
   ],
   "source": [
    "\"\"\"Hardmax the labels\"\"\"\n",
    "# convert train_y into a vector range from 0 to 1\n",
    "train_y=np.zeros((1,len(data['Solubility'])))\n",
    "for i in range(0,len(train_y_b4[0])):\n",
    "    if (train_y_b4[0][i] >=mean):\n",
    "        train_y[0][i]=1\n",
    "    else:\n",
    "        train_y[0][i]=0\n",
    "\n",
    "print('There are '+ str(list(np.squeeze(train_y)).count(1)) + ' soluble chemicals (positive samples) and ' + str(list(np.squeeze(train_y)).count(0)) + ' insoluble chemicals (negative samples).')\n",
    "        \n",
    "# plot the input fingerprint length distribution plot\n",
    "plt.plot(np.squeeze(train_y))\n",
    "plt.ylabel('solubility')\n",
    "plt.xlabel('fingerprints')\n",
    "plt.title(\"fingerprint and solubility distribution in binary classification\" )\n",
    "plt.show()\n"
   ]
  },
  {
   "cell_type": "markdown",
   "metadata": {},
   "source": [
    "###  L-Layer NN Model \n",
    "\n",
    "**After this segment you will be able to:**\n",
    "- Use non-linear units like ReLU to improve your model\n",
    "- Build a deeper neural network (with more than 1 hidden layer)\n",
    "- Implement an easy-to-use neural network class\n",
    "\n",
    "**Notation**:\n",
    "- Superscript $[l]$ denotes a quantity associated with the $l^{th}$ layer. \n",
    "    - Example: $a^{[L]}$ is the $L^{th}$ layer activation. $W^{[L]}$ and $b^{[L]}$ are the $L^{th}$ layer parameters.\n",
    "- Superscript $(i)$ denotes a quantity associated with the $i^{th}$ example. \n",
    "    - Example: $x^{(i)}$ is the $i^{th}$ training example.\n",
    "- Lowerscript $i$ denotes the $i^{th}$ entry of a vector.\n",
    "    - Example: $a^{[l]}_i$ denotes the $i^{th}$ entry of the $l^{th}$ layer's activations).\n",
    "\n",
    "<font color=black size=3 face=\"aria\">  </font>\n",
    "\n",
    "Codes based on Andrew N.g's model code\n",
    "\n",
    "Implementing the $L$-layer Neural Net, we design a function that replicates(`linear_activation_forward` with RELU) $L-1$ times, then follows that with one `linear_activation_forward` with SIGMOID.\n",
    "\n",
    "- **Sigmoid**: $\\sigma(Z) = \\sigma(W A + b) = \\frac{1}{ 1 + e^{-(W A + b)}}$. We have provided you with the `sigmoid` function. This function returns **two** items: the activation value \"`a`\" and a \"`cache`\" that contains \"`Z`\" (it's what we will feed in to the corresponding backward function). To use it you could just call: \n",
    "``` python\n",
    "A, activation_cache = sigmoid(Z)\n",
    "```\n",
    "\n",
    "- **ReLU**: The mathematical formula for ReLu is $A = RELU(Z) = max(0, Z)$. We have provided you with the `relu` function. This function returns **two** items: the activation value \"`A`\" and a \"`cache`\" that contains \"`Z`\" (it's what we will feed in to the corresponding backward function). To use it you could just call:\n",
    "``` python\n",
    "A, activation_cache = relu(Z)\n",
    "\n",
    "\n",
    "\n",
    "\n",
    "**Steps**:\n",
    "- Use the functions you had previously written \n",
    "- Use a for loop to replicate [LINEAR->RELU] (L-1) times\n",
    "- Don't forget to keep track of the caches in the \"caches\" list. To add a new value `c` to a `list`, you can use `list.append(c)`."
   ]
  },
  {
   "cell_type": "code",
   "execution_count": 62,
   "metadata": {},
   "outputs": [],
   "source": [
    "\"\"\"Define activation functions\"\"\"\n",
    "\n",
    "def sigmoid(Z):\n",
    "    \"\"\"\n",
    "    Implements the sigmoid activation in numpy\n",
    "    \n",
    "    Arguments:\n",
    "    Z -- numpy array of any shape\n",
    "    \n",
    "    Returns:\n",
    "    A -- output of sigmoid(z), same shape as Z\n",
    "    cache -- returns Z as well, useful during backpropagation\n",
    "    \"\"\"\n",
    "    \n",
    "    A = 1/(1+np.exp(-Z))\n",
    "    cache = Z\n",
    "    \n",
    "    return A, cache\n",
    "\n",
    "def relu(Z):\n",
    "    \"\"\"\n",
    "    Implement the RELU function.\n",
    "    Arguments:\n",
    "    Z -- Output of the linear layer, of any shape\n",
    "    Returns:\n",
    "    A -- Post-activation parameter, of the same shape as Z\n",
    "    cache -- a python dictionary containing \"A\" ; stored for computing the backward pass efficiently\n",
    "    \"\"\"\n",
    "    \n",
    "    A = np.maximum(0,Z)\n",
    "    \n",
    "    assert(A.shape == Z.shape)\n",
    "    \n",
    "    cache = Z \n",
    "    return A, cache\n",
    "\n",
    "\n",
    "def relu_backward(dA, cache):\n",
    "    \"\"\"\n",
    "    Implement the backward propagation for a single RELU unit.\n",
    "    Arguments:\n",
    "    dA -- post-activation gradient, of any shape\n",
    "    cache -- 'Z' where we store for computing backward propagation efficiently\n",
    "    Returns:\n",
    "    dZ -- Gradient of the cost with respect to Z\n",
    "    \"\"\"\n",
    "    \n",
    "    Z = cache\n",
    "    dZ = np.array(dA, copy=True) # just converting dz to a correct object.\n",
    "    \n",
    "    # When z <= 0, you should set dz to 0 as well. \n",
    "    dZ[Z <= 0] = 0\n",
    "    \n",
    "    assert (dZ.shape == Z.shape)\n",
    "    \n",
    "    return dZ\n",
    "\n",
    "def sigmoid_backward(dA, cache):\n",
    "    \"\"\"\n",
    "    Implement the backward propagation for a single SIGMOID unit.\n",
    "    Arguments:\n",
    "    dA -- post-activation gradient, of any shape\n",
    "    cache -- 'Z' where we store for computing backward propagation efficiently\n",
    "    Returns:\n",
    "    dZ -- Gradient of the cost with respect to Z\n",
    "    \"\"\"\n",
    "    \n",
    "    Z = cache\n",
    "    \n",
    "    s = 1/(1+np.exp(-Z))\n",
    "    dZ = dA * s * (1-s)\n",
    "    \n",
    "    assert (dZ.shape == Z.shape)\n",
    "    \n",
    "    return dZ\n",
    "def dictionary_to_vector(parameters):\n",
    "    \"\"\"\n",
    "    Roll all our parameters dictionary into a single vector satisfying our specific required shape.\n",
    "    \"\"\"\n",
    "    keys = []\n",
    "    count = 0\n",
    "    for key in [\"W1\", \"b1\", \"W2\", \"b2\", \"W3\", \"b3\"]:\n",
    "        \n",
    "        # flatten parameter\n",
    "        new_vector = np.reshape(parameters[key], (-1,1))\n",
    "        keys = keys + [key]*new_vector.shape[0]\n",
    "        \n",
    "        if count == 0:\n",
    "            theta = new_vector\n",
    "        else:\n",
    "            theta = np.concatenate((theta, new_vector), axis=0)\n",
    "        count = count + 1\n",
    "\n",
    "    return theta, keys\n",
    "\n",
    "def vector_to_dictionary(theta):\n",
    "    \"\"\"\n",
    "    Unroll all our parameters dictionary from a single vector satisfying our specific required shape.\n",
    "    \"\"\"\n",
    "    parameters = {}\n",
    "    parameters[\"W1\"] = theta[:20].reshape((5,4))\n",
    "    parameters[\"b1\"] = theta[20:25].reshape((5,1))\n",
    "    parameters[\"W2\"] = theta[25:40].reshape((3,5))\n",
    "    parameters[\"b2\"] = theta[40:43].reshape((3,1))\n",
    "    parameters[\"W3\"] = theta[43:46].reshape((1,3))\n",
    "    parameters[\"b3\"] = theta[46:47].reshape((1,1))\n",
    "\n",
    "    return parameters\n",
    "\n",
    "def gradients_to_vector(gradients):\n",
    "    \"\"\"\n",
    "    Roll all our gradients dictionary into a single vector satisfying our specific required shape.\n",
    "    \"\"\"\n",
    "    \n",
    "    count = 0\n",
    "    for key in [\"dW1\", \"db1\", \"dW2\", \"db2\", \"dW3\", \"db3\"]:\n",
    "        # flatten parameter\n",
    "        new_vector = np.reshape(gradients[key], (-1,1))\n",
    "        \n",
    "        if count == 0:\n",
    "            theta = new_vector\n",
    "        else:\n",
    "            theta = np.concatenate((theta, new_vector), axis=0)\n",
    "        count = count + 1\n",
    "\n",
    "    return theta"
   ]
  },
  {
   "cell_type": "markdown",
   "metadata": {},
   "source": [
    "## 1 - He initialization\n",
    "\n",
    "\"He Initialization\" is named for the first author of He et al., 2015. (If you have heard of \"Xavier initialization\", this is similar except Xavier initialization uses a scaling factor for the weights $W^{[l]}$ of `sqrt(1./layers_dims[l-1])` where He initialization would use `sqrt(2./layers_dims[l-1])`.)\n",
    "\n",
    "\n",
    "**Hint**: This function is similar to the previous `initialize_parameters_random(...)`. The only difference is that instead of multiplying `np.random.randn(..,..)` by 10, you will multiply it by $\\sqrt{\\frac{2}{\\text{dimension of the previous layer}}}$, which is what He initialization recommends for layers with a ReLU activation. "
   ]
  },
  {
   "cell_type": "code",
   "execution_count": 63,
   "metadata": {},
   "outputs": [],
   "source": [
    "\"\"\"Init_parameters_he\"\"\" \n",
    "def initialize_parameters_he(layers_dims):\n",
    "    \"\"\"\n",
    "    Arguments:\n",
    "    layer_dims -- python array (list) containing the size of each layer.\n",
    "    \n",
    "    Returns:\n",
    "    parameters -- python dictionary containing your parameters \"W1\", \"b1\", ..., \"WL\", \"bL\":\n",
    "                    W1 -- weight matrix of shape (layers_dims[1], layers_dims[0])\n",
    "                    b1 -- bias vector of shape (layers_dims[1], 1)\n",
    "                    ...\n",
    "                    WL -- weight matrix of shape (layers_dims[L], layers_dims[L-1])\n",
    "                    bL -- bias vector of shape (layers_dims[L], 1)\n",
    "    \"\"\"\n",
    "    \n",
    "    np.random.seed(3)\n",
    "    parameters = {}\n",
    "    L = len(layers_dims) - 1 # integer representing the number of layers\n",
    "     \n",
    "    for l in range(1, L + 1):\n",
    "        ### START CODE HERE ### (≈ 2 lines of code)\n",
    "        parameters['W' + str(l)] = np.random.randn(layers_dims[l], layers_dims[l - 1]) * np.sqrt(2 / layers_dims[l - 1])\n",
    "        parameters['b' + str(l)] = np.zeros((layers_dims[l], 1))\n",
    "        ### END CODE HERE ###\n",
    "        \n",
    "    return parameters"
   ]
  },
  {
   "cell_type": "markdown",
   "metadata": {},
   "source": [
    "## 2 - Forward propagation module\n",
    "\n",
    "### 2.1 - Linear Forward \n",
    "Now that you have initialized your parameters, you will do the forward propagation module. You will start by implementing some basic functions that you will use later when implementing the model. You will complete three functions in this order:\n",
    "\n",
    "- LINEAR\n",
    "- LINEAR -> ACTIVATION where ACTIVATION will be either ReLU or Sigmoid. \n",
    "- [LINEAR -> RELU] $\\times$ (L-1) -> LINEAR -> SIGMOID (whole model)\n",
    "\n",
    "The linear forward module (vectorized over all the examples) computes the following equations:\n",
    "\n",
    "$$Z^{[l]} = W^{[l]}A^{[l-1]} +b^{[l]}\\tag{4}$$\n",
    "\n",
    "where $A^{[0]} = X$. \n",
    "\n",
    "**Exercise**: Build the linear part of forward propagation.\n",
    "\n",
    "**Reminder**:\n",
    "The mathematical representation of this unit is $Z^{[l]} = W^{[l]}A^{[l-1]} +b^{[l]}$. You may also find `np.dot()` useful. If your dimensions don't match, printing `W.shape` may help."
   ]
  },
  {
   "cell_type": "code",
   "execution_count": 64,
   "metadata": {},
   "outputs": [],
   "source": [
    "def linear_forward(A, W, b):\n",
    "    \"\"\"\n",
    "    Implement the linear part of a layer's forward propagation.\n",
    "\n",
    "    Arguments:\n",
    "    A -- activations from previous layer (or input data): (size of previous layer, number of examples)\n",
    "    W -- weights matrix: numpy array of shape (size of current layer, size of previous layer)\n",
    "    b -- bias vector, numpy array of shape (size of the current layer, 1)\n",
    "\n",
    "    Returns:\n",
    "    Z -- the input of the activation function, also called pre-activation parameter \n",
    "    cache -- a python dictionary containing \"A\", \"W\" and \"b\" ; stored for computing the backward pass efficiently\n",
    "    \"\"\"\n",
    "    \n",
    "    Z = np.dot(W,A)+b\n",
    "    \n",
    "    assert(Z.shape == (W.shape[0], A.shape[1]))\n",
    "    cache = (A, W, b)\n",
    "    \n",
    "    return Z, cache"
   ]
  },
  {
   "cell_type": "markdown",
   "metadata": {},
   "source": [
    "### 2.2 - Linear-Activation Forward\n",
    "\n",
    "In this notebook, you will use two activation functions:\n",
    "\n",
    "- **Sigmoid**: $\\sigma(Z) = \\sigma(W A + b) = \\frac{1}{ 1 + e^{-(W A + b)}}$. We have provided you with the `sigmoid` function. This function returns **two** items: the activation value \"`a`\" and a \"`cache`\" that contains \"`Z`\" (it's what we will feed in to the corresponding backward function). To use it you could just call: \n",
    "``` python\n",
    "A, activation_cache = sigmoid(Z)\n",
    "```\n",
    "\n",
    "- **ReLU**: The mathematical formula for ReLu is $A = RELU(Z) = max(0, Z)$. We have provided you with the `relu` function. This function returns **two** items: the activation value \"`A`\" and a \"`cache`\" that contains \"`Z`\" (it's what we will feed in to the corresponding backward function). To use it you could just call:\n",
    "``` python\n",
    "A, activation_cache = relu(Z)\n",
    "```"
   ]
  },
  {
   "cell_type": "code",
   "execution_count": 65,
   "metadata": {},
   "outputs": [],
   "source": [
    "def linear_activation_forward(A_prev, W, b, activation,keep_prob=1):\n",
    "    \"\"\"\n",
    "    Implement the forward propagation for the LINEAR->ACTIVATION layer\n",
    "\n",
    "    Arguments:\n",
    "    A_prev -- activations from previous layer (or input data): (size of previous layer, number of examples)\n",
    "    W -- weights matrix: numpy array of shape (size of current layer, size of previous layer)\n",
    "    b -- bias vector, numpy array of shape (size of the current layer, 1)\n",
    "    activation -- the activation to be used in this layer, stored as a text string: \"sigmoid\" or \"relu\"\n",
    "\n",
    "    Returns:\n",
    "    A -- the output of the activation function, also called the post-activation value \n",
    "    cache -- a python dictionary containing \"linear_cache\" and \"activation_cache\";\n",
    "             stored for computing the backward pass efficiently\n",
    "    \"\"\"\n",
    "    \n",
    "    if activation == \"sigmoid\":\n",
    "        # Inputs: \"A_prev, W, b\". Outputs: \"A, activation_cache\".\n",
    "        ### START CODE HERE ### (≈ 2 lines of code)\n",
    "        Z, linear_cache = linear_forward(A_prev,W,b)\n",
    "        A, activation_cache = sigmoid(Z)\n",
    "        ### END CODE HERE ###\n",
    "        Dt = np.random.rand(A.shape[0], A.shape[1])\n",
    "        \n",
    "    elif activation == \"relu\":\n",
    "        # Inputs: \"A_prev, W, b\". Outputs: \"A, activation_cache\".\n",
    "        ### START CODE HERE ### (≈ 2 lines of code)\n",
    "        Z, linear_cache = linear_forward(A_prev,W,b)\n",
    "        A, activation_cache = relu(Z)\n",
    "        # Dropout\n",
    "        Dt = np.random.rand(A.shape[0], A.shape[1])                                         # Step 1: initialize matrix D2 = np.random.rand(..., ...)\n",
    "        Dt = Dt < keep_prob                                         # Step 2: convert entries of D2 to 0 or 1 (using keep_prob as the threshold)\n",
    "        A = A * Dt                                         # Step 3: shut down some neurons of A2\n",
    "        A = A / keep_prob     \n",
    "        ### END CODE HERE ###\n",
    "    \n",
    "    assert (A.shape == (W.shape[0], A_prev.shape[1]))\n",
    "    cache = (linear_cache, activation_cache,Dt)\n",
    "\n",
    "    return A, cache"
   ]
  },
  {
   "cell_type": "markdown",
   "metadata": {},
   "source": [
    "### 2.3 -  L-Layer Model Forward\n",
    "\n",
    "For even more convenience when implementing the $L$-layer Neural Net, you will need a function that replicates the previous one (`linear_activation_forward` with RELU) $L-1$ times, then follows that with one `linear_activation_forward` with SIGMOID.\n",
    "\n",
    "\n",
    "**Instruction**: In the code below, the variable `AL` will denote $A^{[L]} = \\sigma(Z^{[L]}) = \\sigma(W^{[L]} A^{[L-1]} + b^{[L]})$. (This is sometimes also called `Yhat`, i.e., this is $\\hat{Y}$.) \n",
    "\n",
    "**Tips**:\n",
    "- Use the functions you had previously written \n",
    "- Use a for loop to replicate [LINEAR->RELU] (L-1) times\n",
    "- Don't forget to keep track of the caches in the \"caches\" list. To add a new value `c` to a `list`, you can use `list.append(c)`."
   ]
  },
  {
   "cell_type": "code",
   "execution_count": 66,
   "metadata": {},
   "outputs": [],
   "source": [
    "def L_model_forward(X, parameters, keep_prob):\n",
    "    \"\"\"\n",
    "    Implement forward propagation for the [LINEAR->RELU]*(L-1)->LINEAR->SIGMOID computation\n",
    "    \n",
    "    Arguments:\n",
    "    X -- data, numpy array of shape (input size, number of examples)\n",
    "    parameters -- output of initialize_parameters_he()\n",
    "    \n",
    "    Returns:\n",
    "    AL -- last post-activation value\n",
    "    caches -- list of caches containing:\n",
    "                every cache of linear_activation_forward() (there are L-1 of them, indexed from 0 to L-1)\n",
    "    \"\"\"\n",
    "    \n",
    "    caches = []\n",
    "    A = X\n",
    "    L = len(parameters) // 2                  # number of layers in the neural network\n",
    "    keep_probtmp=keep_prob\n",
    "    \n",
    "    # Implement [LINEAR -> RELU]*(L-1). Add \"cache\" to the \"caches\" list.\n",
    "    for l in range(1, L):\n",
    "        A_prev = A \n",
    "        \n",
    "        ### START CODE HERE ### (≈ 2 lines of code)\n",
    "        A, cache = linear_activation_forward(A_prev,parameters['W'+str(l)], parameters['b'+str(l)], activation='relu',keep_prob=keep_probtmp)\n",
    "        caches.append(cache)\n",
    "        ### END CODE HERE ###\n",
    "    \n",
    "    # Implement LINEAR -> SIGMOID. Add \"cache\" to the \"caches\" list.\n",
    "    ### START CODE HERE ### (≈ 2 lines of code)\n",
    "    AL, cache = linear_activation_forward(A, parameters['W'+str(L)], parameters['b'+str(L)], activation='sigmoid')\n",
    "    caches.append(cache)\n",
    "    ### END CODE HERE ###\n",
    "    \n",
    "    assert(AL.shape == (1,X.shape[1]))\n",
    "            \n",
    "    return AL, caches"
   ]
  },
  {
   "cell_type": "markdown",
   "metadata": {},
   "source": [
    "## 3 - Cost function\n",
    "\n",
    "**Compute the cross-entropy cost $J$, using the following formula:** $$-\\frac{1}{m} \\sum\\limits_{i = 1}^{m} (y^{(i)}\\log\\left(a^{[L] (i)}\\right) + (1-y^{(i)})\\log\\left(1- a^{[L](i)}\\right)) \\tag{7}$$"
   ]
  },
  {
   "cell_type": "code",
   "execution_count": 67,
   "metadata": {},
   "outputs": [],
   "source": [
    "def compute_cost(AL, Y):\n",
    "    \"\"\"\n",
    "    Implement the cost function defined by equation (7).\n",
    "\n",
    "    Arguments:\n",
    "    AL -- probability vector corresponding to your label predictions, shape (1, number of examples)\n",
    "    Y -- true \"label\" vector (for example: containing 0 if non-cat, 1 if cat), shape (1, number of examples)\n",
    "\n",
    "    Returns:\n",
    "    cost -- cross-entropy cost\n",
    "    \"\"\"\n",
    "    \n",
    "    m = Y.shape[1]\n",
    "\n",
    "    # Compute loss from aL and y.\n",
    "    ### START CODE HERE ### (≈ 1 lines of code)\n",
    "    cost = (-1/m)*np.sum(np.multiply(Y,np.log(AL))+np.multiply(1-Y,np.log(1-AL)))\n",
    "    ### END CODE HERE ###\n",
    "    \n",
    "    cost = np.squeeze(cost)      # To make sure your cost's shape is what we expect (e.g. this turns [[17]] into 17).\n",
    "    assert(cost.shape == ())\n",
    "    \n",
    "    return cost\n",
    "\n",
    "def compute_cost_with_regularization(AL, Y, parameters, lambd):\n",
    "    \"\"\"\n",
    "    Implement the cost function with L2 regularization. See formula (2) above.\n",
    "    \n",
    "    Arguments:\n",
    "    A3 -- post-activation, output of forward propagation, of shape (output size, number of examples)\n",
    "    Y -- \"true\" labels vector, of shape (output size, number of examples)\n",
    "    parameters -- python dictionary containing parameters of the model\n",
    "    \n",
    "    Returns:\n",
    "    cost - value of the regularized loss function (formula (2))\n",
    "    \"\"\"\n",
    "    m = Y.shape[1]\n",
    "    L2 =0\n",
    "    for i in range(1,len(AL)):\n",
    "        L2 = L2 + lambd * (np.sum( parameters['W'+str(i)]) ) / (2 * m)\n",
    "    cross_entropy_cost = compute_cost(AL, Y) # This gives you the cross-entropy part of the cost\n",
    "    \n",
    "    ### START CODE HERE ### (approx. 1 line)\n",
    "    L2_regularization_cost = (-1/m)*np.sum(np.multiply(Y,np.log(AL))+np.multiply(1-Y,np.log(1-AL))) + L2\n",
    "    ### END CODER HERE ###\n",
    "    \n",
    "    cost = cross_entropy_cost + L2_regularization_cost\n",
    "    \n",
    "    return cost"
   ]
  },
  {
   "cell_type": "markdown",
   "metadata": {},
   "source": [
    "## 4 - Backward propagation module\n",
    "\n",
    "Just like with forward propagation, you will implement helper functions for backpropagation. Remember that back propagation is used to calculate the gradient of the loss function with respect to the parameters. \n",
    "\n",
    "**Reminder**: \n",
    "\n",
    "<!-- \n",
    "For those of you who are expert in calculus (you don't need to be to do this assignment), the chain rule of calculus can be used to derive the derivative of the loss $\\mathcal{L}$ with respect to $z^{[1]}$ in a 2-layer network as follows:\n",
    "\n",
    "$$\\frac{d \\mathcal{L}(a^{[2]},y)}{{dz^{[1]}}} = \\frac{d\\mathcal{L}(a^{[2]},y)}{{da^{[2]}}}\\frac{{da^{[2]}}}{{dz^{[2]}}}\\frac{{dz^{[2]}}}{{da^{[1]}}}\\frac{{da^{[1]}}}{{dz^{[1]}}} \\tag{8} $$\n",
    "\n",
    "In order to calculate the gradient $dW^{[1]} = \\frac{\\partial L}{\\partial W^{[1]}}$, you use the previous chain rule and you do $dW^{[1]} = dz^{[1]} \\times \\frac{\\partial z^{[1]} }{\\partial W^{[1]}}$. During the backpropagation, at each step you multiply your current gradient by the gradient corresponding to the specific layer to get the gradient you wanted.\n",
    "\n",
    "Equivalently, in order to calculate the gradient $db^{[1]} = \\frac{\\partial L}{\\partial b^{[1]}}$, you use the previous chain rule and you do $db^{[1]} = dz^{[1]} \\times \\frac{\\partial z^{[1]} }{\\partial b^{[1]}}$.\n",
    "\n",
    "This is why we talk about **backpropagation**.\n",
    "!-->\n",
    "\n",
    "Now, similar to forward propagation, you are going to build the backward propagation in three steps:\n",
    "- LINEAR backward\n",
    "- LINEAR -> ACTIVATION backward where ACTIVATION computes the derivative of either the ReLU or sigmoid activation\n",
    "- [LINEAR -> RELU] $\\times$ (L-1) -> LINEAR -> SIGMOID backward (whole model)\n",
    "\n",
    "### 4.1 - Linear backward\n",
    "\n",
    "For layer $l$, the linear part is: $Z^{[l]} = W^{[l]} A^{[l-1]} + b^{[l]}$ (followed by an activation).\n",
    "\n",
    "Suppose you have already calculated the derivative $dZ^{[l]} = \\frac{\\partial \\mathcal{L} }{\\partial Z^{[l]}}$. You want to get $(dW^{[l]}, db^{[l]} dA^{[l-1]})$.\n",
    "\n",
    "\n",
    "The three outputs $(dW^{[l]}, db^{[l]}, dA^{[l]})$ are computed using the input $dZ^{[l]}$.Here are the formulas you need:\n",
    "$$ dW^{[l]} = \\frac{\\partial \\mathcal{L} }{\\partial W^{[l]}} = \\frac{1}{m} dZ^{[l]} A^{[l-1] T} \\tag{8}$$\n",
    "$$ db^{[l]} = \\frac{\\partial \\mathcal{L} }{\\partial b^{[l]}} = \\frac{1}{m} \\sum_{i = 1}^{m} dZ^{[l](i)}\\tag{9}$$\n",
    "$$ dA^{[l-1]} = \\frac{\\partial \\mathcal{L} }{\\partial A^{[l-1]}} = W^{[l] T} dZ^{[l]} \\tag{10}$$\n"
   ]
  },
  {
   "cell_type": "code",
   "execution_count": 68,
   "metadata": {},
   "outputs": [],
   "source": [
    "def linear_backward(dZ, cache,keep_prob,D):\n",
    "    \"\"\"\n",
    "    Implement the linear portion of backward propagation for a single layer (layer l)\n",
    "\n",
    "    Arguments:\n",
    "    dZ -- Gradient of the cost with respect to the linear output (of current layer l)\n",
    "    cache -- tuple of values (A_prev, W, b) coming from the forward propagation in the current layer\n",
    "\n",
    "    Returns:\n",
    "    dA_prev -- Gradient of the cost with respect to the activation (of the previous layer l-1), same shape as A_prev\n",
    "    dW -- Gradient of the cost with respect to W (current layer l), same shape as W\n",
    "    db -- Gradient of the cost with respect to b (current layer l), same shape as b\n",
    "    \"\"\"\n",
    "    A_prev, W, b = cache\n",
    "    m = A_prev.shape[1]\n",
    "\n",
    "    ### START CODE HERE ### (≈ 3 lines of code)\n",
    "    dW = (1/m)*np.dot(dZ,cache[0].T)\n",
    "    db = (1/m)*np.sum(dZ,axis=1,keepdims=True)\n",
    "    dA_prev = np.dot(cache[1].T,dZ)\n",
    "    if keep_prob<1:\n",
    "        dA_prev = dA_prev * D                # Step 1: Apply mask D2 to shut down the same neurons as during the forward propagation\n",
    "        dA_prev = dA_prev / keep_prob \n",
    "    ### END CODE HERE ###\n",
    "    \n",
    "    assert (dA_prev.shape == A_prev.shape)\n",
    "    assert (dW.shape == W.shape)\n",
    "    assert (db.shape == b.shape)\n",
    "    \n",
    "    return dA_prev, dW, db\n",
    "\n",
    "# FUNCTION: backward_propagation_with_regularization\n",
    "\n",
    "def backward_propagation_with_regularization(dZ, cache, lambd,keep_prob,D):\n",
    "    \"\"\"\n",
    "    Implement the linear portion of backward propagation for a single layer (layer l)\n",
    "\n",
    "    Arguments:\n",
    "    dZ -- Gradient of the cost with respect to the linear output (of current layer l)\n",
    "    cache -- tuple of values (A_prev, W, b) coming from the forward propagation in the current layer\n",
    "\n",
    "    Returns:\n",
    "    dA_prev -- Gradient of the cost with respect to the activation (of the previous layer l-1), same shape as A_prev\n",
    "    dW -- Gradient of the cost with respect to W (current layer l), same shape as W\n",
    "    db -- Gradient of the cost with respect to b (current layer l), same shape as b\n",
    "    \"\"\"\n",
    "    A_prev, W, b = cache\n",
    "    m = A_prev.shape[1]\n",
    "\n",
    "    ### START CODE HERE ### (≈ 3 lines of code)\n",
    "    dW = (1/m)*np.dot(dZ,cache[0].T) + (lambd * W) / m\n",
    "    db = (1/m)*np.sum(dZ,axis=1,keepdims=True)\n",
    "    dA_prev = np.dot(cache[1].T,dZ)\n",
    "    if keep_prob<1:\n",
    "        dA_prev = dA_prev * D                # Step 1: Apply mask D2 to shut down the same neurons as during the forward propagation\n",
    "        dA_prev = dA_prev / keep_prob              # Step 2: Scale the value of neurons that haven't been shut down\n",
    "    ### END CODE HERE ###\n",
    "    \n",
    "    assert (dA_prev.shape == A_prev.shape)\n",
    "    assert (dW.shape == W.shape)\n",
    "    assert (db.shape == b.shape)\n",
    "    \n",
    "    return dA_prev, dW, db\n",
    "\n",
    "    ### START CODE HERE ### (approx. 1 line)"
   ]
  },
  {
   "cell_type": "markdown",
   "metadata": {},
   "source": [
    "### 4.2 - Linear-Activation backward\n",
    "\n",
    "Next, you will create a function that merges the two helper functions: **`linear_backward`** and the backward step for the activation **`linear_activation_backward`**. \n",
    "\n",
    "To help you implement `linear_activation_backward`, we provided two backward functions:\n",
    "- **`sigmoid_backward`**: Implements the backward propagation for SIGMOID unit. You can call it as follows:\n",
    "\n",
    "```python\n",
    "dZ = sigmoid_backward(dA, activation_cache)\n",
    "```\n",
    "\n",
    "- **`relu_backward`**: Implements the backward propagation for RELU unit. You can call it as follows:\n",
    "\n",
    "```python\n",
    "dZ = relu_backward(dA, activation_cache)\n",
    "```\n",
    "\n",
    "If $g(.)$ is the activation function, \n",
    "`sigmoid_backward` and `relu_backward` compute $$dZ^{[l]} = dA^{[l]} * g'(Z^{[l]}) \\tag{11}$$.  \n",
    "\n",
    "**Exercise**: Implement the backpropagation for the *LINEAR->ACTIVATION* layer."
   ]
  },
  {
   "cell_type": "code",
   "execution_count": 69,
   "metadata": {},
   "outputs": [],
   "source": [
    "def linear_activation_backward(dA, cache, activation, regu,lambd,keep_prob):\n",
    "    \"\"\"\n",
    "    Implement the backward propagation for the LINEAR->ACTIVATION layer.\n",
    "    \n",
    "    Arguments:\n",
    "    dA -- post-activation gradient for current layer l \n",
    "    cache -- tuple of values (linear_cache, activation_cache) we store for computing backward propagation efficiently\n",
    "    activation -- the activation to be used in this layer, stored as a text string: \"sigmoid\" or \"relu\"\n",
    "    \n",
    "    Returns:\n",
    "    dA_prev -- Gradient of the cost with respect to the activation (of the previous layer l-1), same shape as A_prev\n",
    "    dW -- Gradient of the cost with respect to W (current layer l), same shape as W\n",
    "    db -- Gradient of the cost with respect to b (current layer l), same shape as b\n",
    "    \"\"\"\n",
    "    linear_cache, activation_cache, D = cache\n",
    "    \n",
    "    if activation == \"relu\":\n",
    "        ### START CODE HERE ### (≈ 2 lines of code)\n",
    "        if regu == True:\n",
    "            dZ = relu_backward(dA,activation_cache)\n",
    "            dA_prev, dW, db = backward_propagation_with_regularization(dZ,linear_cache,lambd,keep_prob,D)\n",
    "        else:\n",
    "            dZ = relu_backward(dA,activation_cache)\n",
    "            dA_prev, dW, db = linear_backward(dZ,linear_cache,keep_prob,D)\n",
    "        ### END CODE HERE ###\n",
    "        \n",
    "    elif activation == \"sigmoid\":\n",
    "        ### START CODE HERE ### (≈ 2 lines of code)\n",
    "        dZ = sigmoid_backward(dA,activation_cache)\n",
    "        if regu == True:\n",
    "            dA_prev, dW, db = backward_propagation_with_regularization(dZ,linear_cache,lambd,keep_prob,D)\n",
    "        else:\n",
    "            dA_prev, dW, db = linear_backward(dZ,linear_cache,keep_prob,D)\n",
    "        ### END CODE HERE ###\n",
    "    \n",
    "    return dA_prev, dW, db"
   ]
  },
  {
   "cell_type": "markdown",
   "metadata": {},
   "source": [
    "### 4.3 - L-Model Backward \n",
    "\n",
    "Now you will implement the backward function for the whole network. Recall that when you implemented the `L_model_forward` function, at each iteration, you stored a cache which contains (X,W,b, and z). In the back propagation module, you will use those variables to compute the gradients. Therefore, in the `L_model_backward` function, you will iterate through all the hidden layers backward, starting from layer $L$. On each step, you will use the cached values for layer $l$ to backpropagate through layer $l$. Figure 5 below shows the backward pass. \n",
    "\n",
    "\n",
    "\n",
    "** Initializing backpropagation**:\n",
    "To backpropagate through this network, we know that the output is, \n",
    "$A^{[L]} = \\sigma(Z^{[L]})$. Your code thus needs to compute `dAL` $= \\frac{\\partial \\mathcal{L}}{\\partial A^{[L]}}$.\n",
    "To do so, use this formula (derived using calculus which you don't need in-depth knowledge of):\n",
    "```python\n",
    "dAL = - (np.divide(Y, AL) - np.divide(1 - Y, 1 - AL)) # derivative of cost with respect to AL\n",
    "```\n",
    "\n",
    "You can then use this post-activation gradient `dAL` to keep going backward. As seen in Figure 5, you can now feed in `dAL` into the LINEAR->SIGMOID backward function you implemented (which will use the cached values stored by the L_model_forward function). After that, you will have to use a `for` loop to iterate through all the other layers using the LINEAR->RELU backward function. You should store each dA, dW, and db in the grads dictionary. To do so, use this formula : \n",
    "\n",
    "$$grads[\"dW\" + str(l)] = dW^{[l]}\\tag{15} $$\n",
    "\n",
    "For example, for $l=3$ this would store $dW^{[l]}$ in `grads[\"dW3\"]`.\n",
    "\n",
    "**Exercise**: Implement backpropagation for the *[LINEAR->RELU] $\\times$ (L-1) -> LINEAR -> SIGMOID* model."
   ]
  },
  {
   "cell_type": "code",
   "execution_count": 70,
   "metadata": {},
   "outputs": [],
   "source": [
    "def L_model_backward(AL, Y, caches, regu,lambd,keep_prob):\n",
    "    \"\"\"\n",
    "    Implement the backward propagation for the [LINEAR->RELU] * (L-1) -> LINEAR -> SIGMOID group\n",
    "    \n",
    "    Arguments:\n",
    "    AL -- probability vector, output of the forward propagation (L_model_forward())\n",
    "    Y -- true \"label\" vector (containing 0 if right, 1 if opposive)\n",
    "    caches -- list of caches containing:\n",
    "                every cache of linear_activation_forward() with \"relu\" (it's caches[l], for l in range(L-1) i.e l = 0...L-2)\n",
    "                the cache of linear_activation_forward() with \"sigmoid\" (it's caches[L-1])\n",
    "    \n",
    "    Returns:\n",
    "    grads -- A dictionary with the gradients\n",
    "             grads[\"dA\" + str(l)] = ... \n",
    "             grads[\"dW\" + str(l)] = ...\n",
    "             grads[\"db\" + str(l)] = ... \n",
    "    \"\"\"\n",
    "    grads = {}\n",
    "    L = len(caches) # the number of layers\n",
    "    m = AL.shape[1]\n",
    "    Y = Y.reshape(AL.shape) # after this line, Y is the same shape as AL\n",
    "    \n",
    "    # Initializing the backpropagation\n",
    "    ### START CODE HERE ### (1 line of code)\n",
    "    dAL = - (np.divide(Y, AL) - np.divide(1 - Y, 1 - AL))\n",
    "    ### END CODE HERE ###\n",
    "    \n",
    "    # Lth layer (SIGMOID -> LINEAR) gradients. Inputs: \"dAL, current_cache\". Outputs: \"grads[\"dAL-1\"], grads[\"dWL\"], grads[\"dbL\"]\n",
    "    ### START CODE HERE ### (approx. 2 lines)\n",
    "    current_cache = caches[L-1]\n",
    "    if regu == True:\n",
    "        grads[\"dA\" + str(L-1)], grads[\"dW\" + str(L)], grads[\"db\" + str(L)] = linear_activation_backward(dAL,current_cache,'sigmoid',True,lambd,keep_prob)\n",
    "    else:\n",
    "        grads[\"dA\" + str(L-1)], grads[\"dW\" + str(L)], grads[\"db\" + str(L)] = linear_activation_backward(dAL,current_cache,'sigmoid',False,lambd,keep_prob)\n",
    "    \n",
    "    ### END CODE HERE ###\n",
    "    \n",
    "    # Loop from l=L-2 to l=0\n",
    "    for l in reversed(range(L-1)):\n",
    "        # lth layer: (RELU -> LINEAR) gradients.\n",
    "        # Inputs: \"grads[\"dA\" + str(l + 1)], current_cache\". Outputs: \"grads[\"dA\" + str(l)] , grads[\"dW\" + str(l + 1)] , grads[\"db\" + str(l + 1)] \n",
    "        ### START CODE HERE ### (approx. 5 lines)\n",
    "        current_cache = caches[l]\n",
    "        if regu == True:\n",
    "            dA_prev_temp, dW_temp, db_temp = linear_activation_backward(grads[\"dA\"+str(l+1)],current_cache,\"relu\",True,lambd,keep_prob)\n",
    "        else:\n",
    "            dA_prev_temp, dW_temp, db_temp = linear_activation_backward(grads[\"dA\"+str(l+1)],current_cache,\"relu\",False,lambd,keep_prob)\n",
    "        grads[\"dA\" + str(l)] = dA_prev_temp\n",
    "        grads[\"dW\" + str(l + 1)] = dW_temp\n",
    "        grads[\"db\" + str(l + 1)] = db_temp\n",
    "        ### END CODE HERE ###\n",
    "\n",
    "    return grads"
   ]
  },
  {
   "cell_type": "markdown",
   "metadata": {},
   "source": [
    "### 4.4 - Update Parameters\n",
    "\n",
    "In this section you will update the parameters of the model, using gradient descent: \n",
    "\n",
    "$$ W^{[l]} = W^{[l]} - \\alpha \\text{ } dW^{[l]} \\tag{16}$$\n",
    "$$ b^{[l]} = b^{[l]} - \\alpha \\text{ } db^{[l]} \\tag{17}$$\n",
    "\n",
    "where $\\alpha$ is the learning rate. After computing the updated parameters, store them in the parameters dictionary. "
   ]
  },
  {
   "cell_type": "code",
   "execution_count": 71,
   "metadata": {},
   "outputs": [],
   "source": [
    "\"\"\"update vectors W,b for gradient descent\"\"\"\n",
    "\n",
    "def update_parameters(parameters, grads, learning_rate):\n",
    "    \"\"\"\n",
    "    Update parameters using gradient descent\n",
    "    \n",
    "    Arguments:\n",
    "    parameters -- python dictionary containing your parameters \n",
    "    grads -- python dictionary containing your gradients, output of L_model_backward\n",
    "     \n",
    "    Returns:\n",
    "    parameters -- python dictionary containing your updated parameters \n",
    "                  parameters[\"W\" + str(l)] = ... \n",
    "                  parameters[\"b\" + str(l)] = ...\n",
    "    \"\"\"\n",
    "    \n",
    "    L = len(parameters) // 2 # number of layers in the neural network\n",
    "\n",
    "    # Update rule for each parameter. Use a for loop.\n",
    "    ### START CODE HERE ### (≈ 3 lines of code)\n",
    "    for l in range(L):\n",
    "        parameters[\"W\" + str(l+1)] = parameters[\"W\" + str(l+1)]-learning_rate*grads[\"dW\"+str(l+1)]\n",
    "        parameters[\"b\" + str(l+1)] = parameters[\"b\" + str(l+1)]-learning_rate*grads[\"db\"+str(l+1)]\n",
    "    ### END CODE HERE ###\n",
    "    return parameters"
   ]
  },
  {
   "cell_type": "markdown",
   "metadata": {},
   "source": [
    "# 5 - Main model"
   ]
  },
  {
   "cell_type": "code",
   "execution_count": 72,
   "metadata": {},
   "outputs": [],
   "source": [
    "def L_layer_model(X, Y, layers_dims, learning_rate = 0.0075, num_iterations = 3000, print_cost = True, lambd = 0, keep_prob = 1,grad_check=False):#lr was 0.009\n",
    "    \"\"\"\n",
    "    Implements a L-layer neural network: [LINEAR->RELU]*(L-1)->LINEAR->SIGMOID.\n",
    "    \n",
    "    Arguments:\n",
    "    X -- data, numpy array of shape (number of examples, num_px * num_px * 3)\n",
    "    Y -- true \"label\" vector (containing 0 if cat, 1 if non-cat), of shape (1, number of examples)\n",
    "    layers_dims -- list containing the input size and each layer size, of length (number of layers + 1).\n",
    "    learning_rate -- learning rate of the gradient descent update rule\n",
    "    num_iterations -- number of iterations of the optimization loop\n",
    "    print_cost -- if True, it prints the cost every 100 steps\n",
    "    \n",
    "    Returns:\n",
    "    parameters -- parameters learnt by the model. They can then be used to predict.\n",
    "    \"\"\"\n",
    "\n",
    "    costs = []                         # keep track of cost\n",
    "    lambdtmp = lambd\n",
    "    # Parameters initialization. (≈ 1 line of code)\n",
    "    ### START CODE HERE ###\n",
    "    parameters = initialize_parameters_he(layers_dims)\n",
    "    ### END CODE HERE ###\n",
    "    \n",
    "    # Loop (gradient descent)\n",
    "    for i in range(0, num_iterations):\n",
    "\n",
    "        # Forward propagation: [LINEAR -> RELU]*(L-1) -> LINEAR -> SIGMOID.\n",
    "        ### START CODE HERE ### (≈ 1 line of code)\n",
    "        if keep_prob == 1:\n",
    "            AL, caches = L_model_forward(X,parameters,keep_prob)\n",
    "        elif keep_prob < 1:\n",
    "            AL, caches = L_model_forward(X,parameters,keep_prob)\n",
    "        \n",
    "        ### END CODE HERE ###\n",
    "        \n",
    "        # Compute cost.\n",
    "        ### START CODE HERE ### (≈ 1 line of code)\n",
    "        if lambd == 0:\n",
    "            cost = compute_cost(AL,Y)\n",
    "        else:\n",
    "            cost = compute_cost_with_regularization(AL, Y, parameters, lambd)\n",
    "            \n",
    "        \n",
    "        ### END CODE HERE ###\n",
    "    \n",
    "        # Backward propagation.\n",
    "        ### START CODE HERE ### (≈ 1 line of code)  \n",
    "        if lambd == 0 and keep_prob == 1:\n",
    "            grads = L_model_backward(AL,Y,caches,False,lambd,keep_prob)\n",
    "        elif lambd != 0:\n",
    "            grads = L_model_backward(AL,Y,caches,True,lambd,keep_prob)\n",
    "        elif keep_prob < 1:\n",
    "            grads = L_model_backward(AL,Y,caches,False,lambd,keep_prob)\n",
    "        ### END CODE HERE ###\n",
    "        # difference = gradient_check_n(parameters, grads, X, Y)\n",
    "        # Update parameters.\n",
    "        ### START CODE HERE ### (≈ 1 line of code)\n",
    "        parameters = update_parameters(parameters,grads,learning_rate)\n",
    "        ### END CODE HERE ###\n",
    "                \n",
    "        # Print the cost every 100 training example\n",
    "        if print_cost and i % 100 == 0:\n",
    "            print (\"Cost after iteration %i: %f\" %(i, cost))\n",
    "            if grad_check==True:\n",
    "                print (\"Difference after iteration %i: %f\" %(i, difference))\n",
    "        if  i % 100 == 0:\n",
    "            costs.append(cost)\n",
    "            \n",
    "    # plot the cost\n",
    "    plt.plot(np.squeeze(costs))\n",
    "    plt.ylabel('cost')\n",
    "    plt.xlabel('iterations (per tens)')\n",
    "    plt.title(\"Learning rate =\" + str(learning_rate))\n",
    "    plt.show()\n",
    "    \n",
    "    return parameters,costs"
   ]
  },
  {
   "cell_type": "markdown",
   "metadata": {},
   "source": [
    "#  Application\n",
    "\n",
    "- In the segment, we will used the deep NN to train a model from the chemicals data\n",
    "- In the next assignment, you will use these functions to build a deep neural network for solubility classification.\n",
    "\n",
    "**After this assignment you will be able to:**\n",
    "\n",
    "- Train a solubility classifier from chemicles(binary vector) and relervant solubility data\n",
    "- Implement an easy-to-use classifier\n",
    "\n",
    "**Notation**:\n",
    "- Superscript $[l]$ denotes a quantity associated with the $l^{th}$ layer. \n",
    "    - Example: $a^{[L]}$ is the $L^{th}$ layer activation. $W^{[L]}$ and $b^{[L]}$ are the $L^{th}$ layer parameters.\n",
    "- Superscript $(i)$ denotes a quantity associated with the $i^{th}$ example. \n",
    "    - Example: $x^{(i)}$ is the $i^{th}$ training example.\n",
    "- Lowerscript $i$ denotes the $i^{th}$ entry of a vector.\n",
    "    - Example: $a^{[l]}_i$ denotes the $i^{th}$ entry of the $l^{th}$ layer's activations).\n",
    "\n",
    "<font color=black size=3 face=\"aria\">  </font>\n",
    "\n",
    "train_x_flatten: the binary vector of a chemicals list\n",
    "\n",
    "train_y: the solubility feature of the vector\n"
   ]
  },
  {
   "cell_type": "markdown",
   "metadata": {},
   "source": [
    "## Cross validation\n",
    "\n",
    "**Holdout method**\n",
    "\n",
    "- Split training set/dev set/test set = 90/10/10 (dev=test distribution)\n",
    "\n",
    "- Split training set/dev set/test set = 99/0.5/0.5 (dev=test distribution)\n",
    "\n",
    "**k-fold cross-validation**\n",
    "\n",
    "- smaller data\n",
    "\n",
    "- to maximize our ability to evaluate the NN performance.\n",
    "\n",
    "**Leave-p-out cross-validation**\n",
    "\n",
    "Leave-p-out cross-validation (LpO CV) involves using p observations as the validation set and the remaining observations as the training set. This is repeated on all ways to cut the original sample on a validation set of p observations and a training set."
   ]
  },
  {
   "cell_type": "code",
   "execution_count": 73,
   "metadata": {},
   "outputs": [],
   "source": [
    "\"\"\"Transpose the matricesin shape (samples,features) for sklearn\"\"\"\n",
    "train_yy=train_y.T\n",
    "train_xx=train_x_flatten.T\n",
    "\n",
    "\"\"\" Define_NN_structures \"\"\"\n",
    "# 4-layers model of neurons with layers 20,7,5,1\n",
    "layers_dims = [train_x_flatten.shape[0], 20, 7, 5, 1] "
   ]
  },
  {
   "cell_type": "code",
   "execution_count": 82,
   "metadata": {},
   "outputs": [],
   "source": [
    "\"\"\"Hold-out method\"\"\"\n",
    "# Split the data in train/test = 0.9/0.1\n",
    "X_train, X_test, y_train, y_test = train_test_split(train_xx, train_yy, test_size=0.10)"
   ]
  },
  {
   "cell_type": "code",
   "execution_count": 83,
   "metadata": {},
   "outputs": [],
   "source": [
    "X_train=X_train.T\n",
    "X_test=X_test.T\n",
    "y_train=y_train.T\n",
    "y_test=y_test.T"
   ]
  },
  {
   "cell_type": "code",
   "execution_count": 97,
   "metadata": {},
   "outputs": [
    {
     "name": "stdout",
     "output_type": "stream",
     "text": [
      "Cost after iteration 0: 0.715482\n",
      "Cost after iteration 100: 0.687310\n",
      "Cost after iteration 200: 0.670816\n",
      "Cost after iteration 300: 0.646592\n",
      "Cost after iteration 400: 0.617939\n",
      "Cost after iteration 500: 0.583520\n",
      "Cost after iteration 600: 0.545674\n",
      "Cost after iteration 700: 0.505374\n",
      "Cost after iteration 800: 0.464710\n",
      "Cost after iteration 900: 0.424942\n",
      "Cost after iteration 1000: 0.385136\n",
      "Cost after iteration 1100: 0.346119\n",
      "Cost after iteration 1200: 0.308686\n",
      "Cost after iteration 1300: 0.274407\n",
      "Cost after iteration 1400: 0.244842\n",
      "Cost after iteration 1500: 0.220389\n",
      "Cost after iteration 1600: 0.200727\n",
      "Cost after iteration 1700: 0.184607\n",
      "Cost after iteration 1800: 0.170917\n",
      "Cost after iteration 1900: 0.156834\n",
      "Cost after iteration 2000: 0.144074\n",
      "Cost after iteration 2100: 0.133255\n",
      "Cost after iteration 2200: 0.124125\n",
      "Cost after iteration 2300: 0.116304\n",
      "Cost after iteration 2400: 0.109525\n",
      "Cost after iteration 2500: 0.103676\n",
      "Cost after iteration 2600: 0.098391\n",
      "Cost after iteration 2700: 0.093093\n",
      "Cost after iteration 2800: 0.088334\n",
      "Cost after iteration 2900: 0.084116\n",
      "Cost after iteration 3000: 0.080440\n",
      "Cost after iteration 3100: 0.077237\n",
      "Cost after iteration 3200: 0.073544\n",
      "Cost after iteration 3300: 0.070345\n",
      "Cost after iteration 3400: 0.067876\n",
      "Cost after iteration 3500: 0.065712\n",
      "Cost after iteration 3600: 0.063740\n",
      "Cost after iteration 3700: 0.061944\n",
      "Cost after iteration 3800: 0.060311\n",
      "Cost after iteration 3900: 0.058802\n",
      "Cost after iteration 4000: 0.057305\n",
      "Cost after iteration 4100: 0.055517\n",
      "Cost after iteration 4200: 0.053361\n",
      "Cost after iteration 4300: 0.051910\n",
      "Cost after iteration 4400: 0.050793\n",
      "Cost after iteration 4500: 0.049860\n",
      "Cost after iteration 4600: 0.049011\n",
      "Cost after iteration 4700: 0.048230\n",
      "Cost after iteration 4800: 0.047508\n",
      "Cost after iteration 4900: 0.046779\n"
     ]
    },
    {
     "data": {
      "image/png": "[encoded data removed]",
      "text/plain": [
       "<Figure size 432x288 with 1 Axes>"
      ]
     },
     "metadata": {},
     "output_type": "display_data"
    },
    {
     "name": "stdout",
     "output_type": "stream",
     "text": [
      "Accuracy 98% on the training set.\n",
      "Accuracy 84% on the test set.\n",
      "Cost after iteration 0: 0.710372\n",
      "Cost after iteration 100: 0.683198\n",
      "Cost after iteration 200: 0.661510\n",
      "Cost after iteration 300: 0.637927\n",
      "Cost after iteration 400: 0.610395\n",
      "Cost after iteration 500: 0.577908\n",
      "Cost after iteration 600: 0.541116\n",
      "Cost after iteration 700: 0.503096\n",
      "Cost after iteration 800: 0.465995\n",
      "Cost after iteration 900: 0.430392\n",
      "Cost after iteration 1000: 0.397210\n",
      "Cost after iteration 1100: 0.366066\n",
      "Cost after iteration 1200: 0.336672\n",
      "Cost after iteration 1300: 0.308392\n",
      "Cost after iteration 1400: 0.281746\n",
      "Cost after iteration 1500: 0.256745\n",
      "Cost after iteration 1600: 0.233863\n",
      "Cost after iteration 1700: 0.213530\n",
      "Cost after iteration 1800: 0.195840\n",
      "Cost after iteration 1900: 0.180789\n",
      "Cost after iteration 2000: 0.167417\n",
      "Cost after iteration 2100: 0.155295\n",
      "Cost after iteration 2200: 0.144285\n",
      "Cost after iteration 2300: 0.134669\n",
      "Cost after iteration 2400: 0.126318\n",
      "Cost after iteration 2500: 0.119565\n",
      "Cost after iteration 2600: 0.113736\n",
      "Cost after iteration 2700: 0.108678\n",
      "Cost after iteration 2800: 0.104277\n",
      "Cost after iteration 2900: 0.100410\n",
      "Cost after iteration 3000: 0.096988\n",
      "Cost after iteration 3100: 0.093932\n",
      "Cost after iteration 3200: 0.091186\n",
      "Cost after iteration 3300: 0.088695\n",
      "Cost after iteration 3400: 0.086438\n",
      "Cost after iteration 3500: 0.084387\n",
      "Cost after iteration 3600: 0.082517\n",
      "Cost after iteration 3700: 0.080799\n",
      "Cost after iteration 3800: 0.079229\n",
      "Cost after iteration 3900: 0.077781\n",
      "Cost after iteration 4000: 0.076449\n",
      "Cost after iteration 4100: 0.075217\n",
      "Cost after iteration 4200: 0.074080\n",
      "Cost after iteration 4300: 0.073023\n",
      "Cost after iteration 4400: 0.072040\n",
      "Cost after iteration 4500: 0.071119\n",
      "Cost after iteration 4600: 0.070261\n",
      "Cost after iteration 4700: 0.069457\n",
      "Cost after iteration 4800: 0.068702\n",
      "Cost after iteration 4900: 0.067995\n"
     ]
    },
    {
     "data": {
      "image/png": "[encoded data removed]",
      "text/plain": [
       "<Figure size 432x288 with 1 Axes>"
      ]
     },
     "metadata": {},
     "output_type": "display_data"
    },
    {
     "name": "stdout",
     "output_type": "stream",
     "text": [
      "Accuracy 96% on the training set.\n",
      "Accuracy 78% on the test set.\n",
      "Cost after iteration 0: 0.713052\n",
      "Cost after iteration 100: 0.678500\n",
      "Cost after iteration 200: 0.652552\n",
      "Cost after iteration 300: 0.624198\n",
      "Cost after iteration 400: 0.594660\n",
      "Cost after iteration 500: 0.562301\n",
      "Cost after iteration 600: 0.527740\n",
      "Cost after iteration 700: 0.491654\n",
      "Cost after iteration 800: 0.457350\n",
      "Cost after iteration 900: 0.425222\n",
      "Cost after iteration 1000: 0.395964\n",
      "Cost after iteration 1100: 0.369141\n",
      "Cost after iteration 1200: 0.343899\n",
      "Cost after iteration 1300: 0.319716\n",
      "Cost after iteration 1400: 0.296495\n",
      "Cost after iteration 1500: 0.274040\n",
      "Cost after iteration 1600: 0.252680\n",
      "Cost after iteration 1700: 0.233422\n",
      "Cost after iteration 1800: 0.216553\n",
      "Cost after iteration 1900: 0.202051\n",
      "Cost after iteration 2000: 0.189885\n",
      "Cost after iteration 2100: 0.179636\n",
      "Cost after iteration 2200: 0.170439\n",
      "Cost after iteration 2300: 0.162237\n",
      "Cost after iteration 2400: 0.155315\n",
      "Cost after iteration 2500: 0.148954\n",
      "Cost after iteration 2600: 0.143284\n",
      "Cost after iteration 2700: 0.136961\n",
      "Cost after iteration 2800: 0.131866\n",
      "Cost after iteration 2900: 0.127578\n",
      "Cost after iteration 3000: 0.123702\n",
      "Cost after iteration 3100: 0.120213\n",
      "Cost after iteration 3200: 0.117063\n",
      "Cost after iteration 3300: 0.114200\n",
      "Cost after iteration 3400: 0.111658\n",
      "Cost after iteration 3500: 0.109450\n",
      "Cost after iteration 3600: 0.107450\n",
      "Cost after iteration 3700: 0.105618\n",
      "Cost after iteration 3800: 0.103934\n",
      "Cost after iteration 3900: 0.102372\n",
      "Cost after iteration 4000: 0.100938\n",
      "Cost after iteration 4100: 0.099618\n",
      "Cost after iteration 4200: 0.098387\n",
      "Cost after iteration 4300: 0.097230\n",
      "Cost after iteration 4400: 0.096151\n",
      "Cost after iteration 4500: 0.095055\n",
      "Cost after iteration 4600: 0.093291\n",
      "Cost after iteration 4700: 0.091826\n",
      "Cost after iteration 4800: 0.090690\n",
      "Cost after iteration 4900: 0.089748\n"
     ]
    },
    {
     "data": {
      "image/png": "[encoded data removed]",
      "text/plain": [
       "<Figure size 432x288 with 1 Axes>"
      ]
     },
     "metadata": {},
     "output_type": "display_data"
    },
    {
     "name": "stdout",
     "output_type": "stream",
     "text": [
      "Accuracy 96% on the training set.\n",
      "Accuracy 78% on the test set.\n"
     ]
    }
   ],
   "source": [
    "\"\"\"StratifiedKFold\"\"\"\n",
    "from sklearn.model_selection import StratifiedKFold \n",
    "\n",
    "# Split the dataset in 3 folds\n",
    "sfolder = StratifiedKFold(n_splits=3,random_state=0,shuffle=False)\n",
    "sfolder.get_n_splits(train_xx,train_yy)\n",
    "\n",
    "for train, test in sfolder.split(train_xx,train_yy):\n",
    "    X_train, X_test = train_xx[train].T, train_xx[test].T\n",
    "    y_train, y_test = train_yy[train].T, train_yy[test].T\n",
    "    # Train the model with each combination of folds\n",
    "    parameters,costs = L_layer_model(X_train, y_train, layers_dims, learning_rate = 0.0075, num_iterations = 5000, print_cost = True,lambd = 0)\n",
    "    # Predict the model\n",
    "    predictions = predict(parameters, X_train)\n",
    "    print ('Accuracy %d' % float((np.dot(y_train,predictions.T) + np.dot(1-y_train,1-predictions.T))/float(y_train.size)*100) + '%'+\" on the training set.\")\n",
    "    predictions = predict(parameters, X_test)\n",
    "    print ('Accuracy %d' % float((np.dot(y_test,predictions.T) + np.dot(1-y_test,1-predictions.T))/float(y_test.size)*100) + '%'+\" on the test set.\")"
   ]
  },
  {
   "cell_type": "markdown",
   "metadata": {},
   "source": [
    "## 1 - Prediction\n",
    "\n",
    "- Predict the training set and testings set\n",
    "- Computeaccuracy of the trained model by the input dataset"
   ]
  },
  {
   "cell_type": "code",
   "execution_count": 96,
   "metadata": {},
   "outputs": [],
   "source": [
    "\"\"\"Prediction based on training set\"\"\"\n",
    "#Should be testing set########\n",
    "\n",
    "def predict(parameters, X):\n",
    "    \"\"\"\n",
    "    Using the learned parameters, predicts a class for each example in X\n",
    "    \n",
    "    Arguments:\n",
    "    parameters -- python dictionary containing your parameters \n",
    "    X -- input data of size (n_x, m)\n",
    "    \n",
    "    Returns\n",
    "    predictions -- vector of predictions of our model (non-significant: 0 / significant: 1)\n",
    "    \"\"\"\n",
    "    \n",
    "    # Computes probabilities using forward propagation, and classifies to 0/1 using 0.5 as the threshold.\n",
    "    ### START CODE HERE ### (≈ 2 lines of code)\n",
    "    A2, cache = L_model_forward(X,parameters,keep_prob=1)\n",
    "    predictions = np.round(A2)\n",
    "    ### END CODE HERE ###\n",
    "    \n",
    "    return predictions"
   ]
  },
  {
   "cell_type": "code",
   "execution_count": 158,
   "metadata": {},
   "outputs": [
    {
     "name": "stdout",
     "output_type": "stream",
     "text": [
      "Cost after iteration 0: 0.712751\n",
      "Cost after iteration 100: 0.687584\n",
      "Cost after iteration 200: 0.668987\n",
      "Cost after iteration 300: 0.649206\n",
      "Cost after iteration 400: 0.626053\n",
      "Cost after iteration 500: 0.597945\n",
      "Cost after iteration 600: 0.566320\n",
      "Cost after iteration 700: 0.531974\n",
      "Cost after iteration 800: 0.497501\n",
      "Cost after iteration 900: 0.464567\n",
      "Cost after iteration 1000: 0.433047\n",
      "Cost after iteration 1100: 0.403363\n",
      "Cost after iteration 1200: 0.375579\n",
      "Cost after iteration 1300: 0.349050\n",
      "Cost after iteration 1400: 0.323805\n",
      "Cost after iteration 1500: 0.299832\n",
      "Cost after iteration 1600: 0.277246\n",
      "Cost after iteration 1700: 0.256161\n",
      "Cost after iteration 1800: 0.237371\n",
      "Cost after iteration 1900: 0.220969\n",
      "Cost after iteration 2000: 0.206910\n",
      "Cost after iteration 2100: 0.194713\n",
      "Cost after iteration 2200: 0.184274\n",
      "Cost after iteration 2300: 0.174595\n",
      "Cost after iteration 2400: 0.164995\n",
      "Cost after iteration 2500: 0.156428\n",
      "Cost after iteration 2600: 0.149201\n",
      "Cost after iteration 2700: 0.142913\n",
      "Cost after iteration 2800: 0.137367\n",
      "Cost after iteration 2900: 0.132426\n",
      "Cost after iteration 3000: 0.127781\n",
      "Cost after iteration 3100: 0.122521\n",
      "Cost after iteration 3200: 0.117944\n",
      "Cost after iteration 3300: 0.113959\n",
      "Cost after iteration 3400: 0.109537\n",
      "Cost after iteration 3500: 0.106014\n",
      "Cost after iteration 3600: 0.103063\n",
      "Cost after iteration 3700: 0.100434\n",
      "Cost after iteration 3800: 0.098077\n",
      "Cost after iteration 3900: 0.095941\n",
      "Cost after iteration 4000: 0.093976\n",
      "Cost after iteration 4100: 0.092176\n",
      "Cost after iteration 4200: 0.090507\n",
      "Cost after iteration 4300: 0.088951\n",
      "Cost after iteration 4400: 0.087498\n",
      "Cost after iteration 4500: 0.086127\n",
      "Cost after iteration 4600: 0.084821\n",
      "Cost after iteration 4700: 0.083588\n",
      "Cost after iteration 4800: 0.082430\n",
      "Cost after iteration 4900: 0.081339\n"
     ]
    },
    {
     "data": {
      "image/png": "[encoded data removed]",
      "text/plain": [
       "<Figure size 432x288 with 1 Axes>"
      ]
     },
     "metadata": {},
     "output_type": "display_data"
    }
   ],
   "source": [
    "\"\"\"Train the model\"\"\"\n",
    "# Train the 4-layer model; layers 20,7,5,1; 5000 iterations; no regularization and dropout; 0.75 alpha; gradient descent\n",
    "parameters,costs = L_layer_model(X_train, y_train, layers_dims, learning_rate = 0.0075, num_iterations = 5000, print_cost = True,lambd = 0)"
   ]
  },
  {
   "cell_type": "code",
   "execution_count": 68,
   "metadata": {},
   "outputs": [
    {
     "name": "stdout",
     "output_type": "stream",
     "text": [
      "Accuracy 96% on the training set.\n",
      "Accuracy 87% on the test set.\n"
     ]
    }
   ],
   "source": [
    "# Print accuracy\n",
    "predictions = predict(parameters, X_train)\n",
    "print ('Accuracy %d' % float((np.dot(y_train,predictions.T) + np.dot(1-y_train,1-predictions.T))/float(y_train.size)*100) + '%'+\" on the training set.\")\n",
    "predictions = predict(parameters, X_test)\n",
    "print ('Accuracy %d' % float((np.dot(y_test,predictions.T) + np.dot(1-y_test,1-predictions.T))/float(y_test.size)*100) + '%'+\" on the test set.\")"
   ]
  },
  {
   "cell_type": "markdown",
   "metadata": {},
   "source": [
    "##  3 - L2 Regularization\n",
    "\n",
    "The standard way to avoid overfitting is called **L2 regularization**. It consists of appropriately modifying your cost function, from:\n",
    "$$J = -\\frac{1}{m} \\sum\\limits_{i = 1}^{m} \\large{(}\\small  y^{(i)}\\log\\left(a^{[L](i)}\\right) + (1-y^{(i)})\\log\\left(1- a^{[L](i)}\\right) \\large{)} \\tag{1}$$\n",
    "To:\n",
    "$$J_{regularized} = \\small \\underbrace{-\\frac{1}{m} \\sum\\limits_{i = 1}^{m} \\large{(}\\small y^{(i)}\\log\\left(a^{[L](i)}\\right) + (1-y^{(i)})\\log\\left(1- a^{[L](i)}\\right) \\large{)} }_\\text{cross-entropy cost} + \\underbrace{\\frac{1}{m} \\frac{\\lambda}{2} \\sum\\limits_l\\sum\\limits_k\\sum\\limits_j W_{k,j}^{[l]2} }_\\text{L2 regularization cost} \\tag{2}$$\n",
    "\n",
    "\n",
    "```\n",
    "Note that you have to do this for $W^{[1]}$, $W^{[2]}$ and $W^{[3]}$, then sum the three terms and multiply by $ \\frac{1}{m} \\frac{\\lambda}{2} $."
   ]
  },
  {
   "cell_type": "code",
   "execution_count": 94,
   "metadata": {},
   "outputs": [
    {
     "name": "stdout",
     "output_type": "stream",
     "text": [
      "Cost after iteration 0: 1.425503\n",
      "Cost after iteration 100: 0.394658\n",
      "Cost after iteration 200: 0.204186\n",
      "Cost after iteration 300: 0.153697\n",
      "Cost after iteration 400: 0.134807\n",
      "Cost after iteration 500: 0.130089\n",
      "Cost after iteration 600: 0.129017\n",
      "Cost after iteration 700: 0.127463\n",
      "Cost after iteration 800: 0.126845\n",
      "Cost after iteration 900: 0.122930\n",
      "Cost after iteration 1000: 0.119913\n",
      "Cost after iteration 1100: 0.117771\n",
      "Cost after iteration 1200: 0.116821\n",
      "Cost after iteration 1300: 0.117262\n",
      "Cost after iteration 1400: 0.116762\n",
      "Cost after iteration 1500: 0.115236\n",
      "Cost after iteration 1600: 0.114804\n",
      "Cost after iteration 1700: 0.117469\n",
      "Cost after iteration 1800: 0.117922\n",
      "Cost after iteration 1900: 0.114621\n",
      "Cost after iteration 2000: 0.113891\n",
      "Cost after iteration 2100: 0.118013\n",
      "Cost after iteration 2200: 0.116089\n",
      "Cost after iteration 2300: 0.114163\n",
      "Cost after iteration 2400: 0.114680\n",
      "Cost after iteration 2500: 0.116781\n",
      "Cost after iteration 2600: 0.116483\n",
      "Cost after iteration 2700: 0.113563\n",
      "Cost after iteration 2800: 0.117361\n",
      "Cost after iteration 2900: 0.116865\n"
     ]
    },
    {
     "data": {
      "image/png": "[encoded data removed]",
      "text/plain": [
       "<Figure size 432x288 with 1 Axes>"
      ]
     },
     "metadata": {},
     "output_type": "display_data"
    },
    {
     "name": "stdout",
     "output_type": "stream",
     "text": [
      "Accuracy: 96% on the training set:\n",
      "Accuracy: 83% on the test set:\n"
     ]
    }
   ],
   "source": [
    "\"\"\"Train the model after regularization\"\"\"\n",
    "parameters,costs = L_layer_model(X_train, y_train, layers_dims, learning_rate = 0.3, num_iterations = 3000, print_cost = True,lambd = 0.5)\n",
    "# Print accuracy\n",
    "predictions = predict(parameters, X_train)\n",
    "print ('Accuracy: %d' % float((np.dot(y_train,predictions.T) + np.dot(1-y_train,1-predictions.T))/float(y_train.size)*100) + '%'+\" on the training set:\")\n",
    "predictions = predict(parameters, X_test)\n",
    "print ('Accuracy: %d' % float((np.dot(y_test,predictions.T) + np.dot(1-y_test,1-predictions.T))/float(y_test.size)*100) + '%'+\" on the test set:\")"
   ]
  },
  {
   "cell_type": "code",
   "execution_count": null,
   "metadata": {},
   "outputs": [],
   "source": [
    "# \"\"\" plot the decision boundary of your trained model to see if there is over-fitting\"\"\"\n",
    "# plt.title(\"Model without regularization\")\n",
    "# axes = plt.gca()\n",
    "# axes.set_xlim([-0.75,0.40])\n",
    "# axes.set_ylim([-0.75,0.65])\n",
    "# plot_decision_boundary(lambda x: predict_dec(parameters, x.T), train_X, train_Y)"
   ]
  },
  {
   "cell_type": "markdown",
   "metadata": {},
   "source": [
    "## 4 - Dropout neurons\n",
    "\n",
    "**Inverted dropout**\n",
    "\n",
    "When you shut some neurons down, you actually modify your model. The idea behind drop-out is that at each iteration, you train a different model that uses only a subset of your neurons. With dropout, your neurons thus become less sensitive to the activation of one other specific neuron, because that other neuron might be shut down at any time. "
   ]
  },
  {
   "cell_type": "code",
   "execution_count": 98,
   "metadata": {},
   "outputs": [
    {
     "name": "stdout",
     "output_type": "stream",
     "text": [
      "Cost after iteration 0: 0.712751\n",
      "Cost after iteration 100: 0.435126\n",
      "Cost after iteration 200: 0.228246\n",
      "Cost after iteration 300: 0.147462\n",
      "Cost after iteration 400: 0.112145\n",
      "Cost after iteration 500: 0.090940\n",
      "Cost after iteration 600: 0.087004\n",
      "Cost after iteration 700: 0.078980\n",
      "Cost after iteration 800: 0.074457\n",
      "Cost after iteration 900: 0.073319\n",
      "Cost after iteration 1000: 0.070229\n",
      "Cost after iteration 1100: 0.070289\n",
      "Cost after iteration 1200: 0.068141\n",
      "Cost after iteration 1300: 0.066317\n"
     ]
    },
    {
     "data": {
      "image/png": "[encoded data removed]",
      "text/plain": [
       "<Figure size 432x288 with 1 Axes>"
      ]
     },
     "metadata": {},
     "output_type": "display_data"
    }
   ],
   "source": [
    "\"\"\"Train the model after regularization\"\"\"\n",
    "parameters,costs = L_layer_model(X_train, y_train, layers_dims, learning_rate = 0.075, num_iterations = 1400, print_cost = True,lambd = 0,keep_prob=0.7)"
   ]
  },
  {
   "cell_type": "code",
   "execution_count": 99,
   "metadata": {},
   "outputs": [
    {
     "name": "stdout",
     "output_type": "stream",
     "text": [
      "Accuracy: 96% on the training set:\n",
      "Accuracy: 84% on the test set:\n"
     ]
    }
   ],
   "source": [
    "# Print accuracy\n",
    "predictions = predict(parameters, X_train)\n",
    "print ('Accuracy: %d' % float((np.dot(y_train,predictions.T) + np.dot(1-y_train,1-predictions.T))/float(y_train.size)*100) + '%'+\" on the training set:\")\n",
    "predictions = predict(parameters, X_test)\n",
    "print ('Accuracy: %d' % float((np.dot(y_test,predictions.T) + np.dot(1-y_test,1-predictions.T))/float(y_test.size)*100) + '%'+\" on the test set:\")"
   ]
  },
  {
   "cell_type": "markdown",
   "metadata": {},
   "source": [
    "# Additional: Tunning hidden layer size in 2nd hidden layer "
   ]
  },
  {
   "cell_type": "code",
   "execution_count": 107,
   "metadata": {},
   "outputs": [
    {
     "data": {
      "image/png": "[encoded data removed]",
      "text/plain": [
       "<Figure size 432x288 with 1 Axes>"
      ]
     },
     "metadata": {},
     "output_type": "display_data"
    },
    {
     "name": "stdout",
     "output_type": "stream",
     "text": [
      "Accuracy for 1 hidden units: 83.82867132867133 %\n"
     ]
    },
    {
     "data": {
      "image/png": "[encoded data removed]",
      "text/plain": [
       "<Figure size 432x288 with 1 Axes>"
      ]
     },
     "metadata": {},
     "output_type": "display_data"
    },
    {
     "name": "stdout",
     "output_type": "stream",
     "text": [
      "Accuracy for 2 hidden units: 83.82867132867133 %\n"
     ]
    },
    {
     "data": {
      "image/png": "[encoded data removed]",
      "text/plain": [
       "<Figure size 432x288 with 1 Axes>"
      ]
     },
     "metadata": {},
     "output_type": "display_data"
    },
    {
     "name": "stdout",
     "output_type": "stream",
     "text": [
      "Accuracy for 3 hidden units: 83.82867132867133 %\n"
     ]
    },
    {
     "data": {
      "image/png": "[encoded data removed]",
      "text/plain": [
       "<Figure size 432x288 with 1 Axes>"
      ]
     },
     "metadata": {},
     "output_type": "display_data"
    },
    {
     "name": "stdout",
     "output_type": "stream",
     "text": [
      "Accuracy for 4 hidden units: 83.82867132867133 %\n"
     ]
    },
    {
     "data": {
      "image/png": "[encoded data removed]",
      "text/plain": [
       "<Figure size 432x288 with 1 Axes>"
      ]
     },
     "metadata": {},
     "output_type": "display_data"
    },
    {
     "name": "stdout",
     "output_type": "stream",
     "text": [
      "Accuracy for 5 hidden units: 83.82867132867133 %\n"
     ]
    },
    {
     "data": {
      "image/png": "[encoded data removed]",
      "text/plain": [
       "<Figure size 432x288 with 1 Axes>"
      ]
     },
     "metadata": {},
     "output_type": "display_data"
    },
    {
     "name": "stdout",
     "output_type": "stream",
     "text": [
      "Accuracy for 20 hidden units: 83.82867132867133 %\n"
     ]
    },
    {
     "data": {
      "image/png": "[encoded data removed]",
      "text/plain": [
       "<Figure size 432x288 with 1 Axes>"
      ]
     },
     "metadata": {},
     "output_type": "display_data"
    },
    {
     "name": "stdout",
     "output_type": "stream",
     "text": [
      "Accuracy for 50 hidden units: 83.82867132867133 %\n"
     ]
    }
   ],
   "source": [
    "# Tunning hidden layer size in hidden layer 2nd\n",
    "\n",
    "hidden_layer_sizes = [1, 2, 3, 4, 5, 20, 50]\n",
    "\n",
    "costs=[]\n",
    "\n",
    "for i, n_h in enumerate(hidden_layer_sizes):\n",
    "    layers_dims = [n_x, 20, n_h, 5, n_y] #  4-layers model with n_h hidden units\n",
    "    parameters,costs = L_layer_model(train_x_flatten, train_y, layers_dims, num_iterations = 2500, print_cost = False)\n",
    "\n",
    "    # Here we should add PCA#####################################################\n",
    "    #plot_decision_boundary(lambda x: predict(parameters, x.T), X, Y)\n",
    "    predictions = predict(parameters,train_x_flatten)\n",
    "    accuracy = float((np.dot(train_y,predictions.T) + np.dot(1-train_y,1-predictions.T))/float(train_y.size)*100) \n",
    "    print (\"Accuracy for {} hidden units: {} %\".format(n_h, accuracy))"
   ]
  },
  {
   "cell_type": "markdown",
   "metadata": {},
   "source": [
    "# Tuning learning rate"
   ]
  },
  {
   "cell_type": "code",
   "execution_count": 77,
   "metadata": {},
   "outputs": [
    {
     "ename": "NameError",
     "evalue": "name 'n_x' is not defined",
     "output_type": "error",
     "traceback": [
      "\u001b[1;31m---------------------------------------------------------------------------\u001b[0m",
      "\u001b[1;31mNameError\u001b[0m                                 Traceback (most recent call last)",
      "\u001b[1;32m<ipython-input-77-9ff3c44495b3>\u001b[0m in \u001b[0;36m<module>\u001b[1;34m()\u001b[0m\n\u001b[0;32m      2\u001b[0m \u001b[1;31m#Try PyTOUCH########################################\u001b[0m\u001b[1;33m\u001b[0m\u001b[1;33m\u001b[0m\u001b[0m\n\u001b[0;32m      3\u001b[0m \u001b[0mlearning_rates\u001b[0m \u001b[1;33m=\u001b[0m \u001b[1;33m[\u001b[0m\u001b[1;36m0.01\u001b[0m\u001b[1;33m,\u001b[0m \u001b[1;36m0.001\u001b[0m\u001b[1;33m,\u001b[0m \u001b[1;36m0.0001\u001b[0m\u001b[1;33m]\u001b[0m\u001b[1;33m\u001b[0m\u001b[0m\n\u001b[1;32m----> 4\u001b[1;33m \u001b[0mlayers_dims\u001b[0m \u001b[1;33m=\u001b[0m \u001b[1;33m[\u001b[0m\u001b[0mn_x\u001b[0m\u001b[1;33m,\u001b[0m \u001b[1;36m20\u001b[0m\u001b[1;33m,\u001b[0m \u001b[1;36m1\u001b[0m\u001b[1;33m,\u001b[0m \u001b[1;36m1\u001b[0m\u001b[1;33m,\u001b[0m \u001b[0mn_y\u001b[0m\u001b[1;33m]\u001b[0m\u001b[1;33m\u001b[0m\u001b[0m\n\u001b[0m\u001b[0;32m      5\u001b[0m \u001b[0mcosts_list\u001b[0m\u001b[1;33m=\u001b[0m\u001b[1;33m[\u001b[0m\u001b[1;33m]\u001b[0m\u001b[1;33m\u001b[0m\u001b[0m\n\u001b[0;32m      6\u001b[0m \u001b[1;32mfor\u001b[0m \u001b[0mi\u001b[0m \u001b[1;32min\u001b[0m \u001b[0mrange\u001b[0m\u001b[1;33m(\u001b[0m\u001b[1;36m0\u001b[0m\u001b[1;33m,\u001b[0m\u001b[0mlen\u001b[0m\u001b[1;33m(\u001b[0m\u001b[0mlearning_rates\u001b[0m\u001b[1;33m)\u001b[0m\u001b[1;33m-\u001b[0m\u001b[1;36m1\u001b[0m\u001b[1;33m)\u001b[0m\u001b[1;33m:\u001b[0m\u001b[1;33m\u001b[0m\u001b[0m\n",
      "\u001b[1;31mNameError\u001b[0m: name 'n_x' is not defined"
     ]
    }
   ],
   "source": [
    "\"\"\"Tuning learning rate\"\"\"\n",
    "#Try PyTOUCH########################################\n",
    "learning_rates = [0.01, 0.001, 0.0001]\n",
    "layers_dims = [n_x, 20, 1, 1, n_y]\n",
    "costs_list=[]\n",
    "for i in range(0,len(learning_rates)-1):\n",
    "    print (\"learning rate is: \" + str(learning_rates[i]))\n",
    "    start = time.time()\n",
    "    parameters,costs = L_layer_model(train_x_flatten, train_y, layers_dims,learning_rate=learning_rates[i], num_iterations = 2500, print_cost = False)\n",
    "    elapsed = (time.time() - start)\n",
    "    print (\"Time for learning rate{} : {} %\".format(str(learning_rates[i]), elapsed))\n",
    "    costs_list.append(costs)\n",
    "    predictions = predict(parameters,train_x_flatten)\n",
    "    accuracy = float((np.dot(train_y,predictions.T) + np.dot(1-train_y,1-predictions.T))/float(train_y.size)*100) \n",
    "    print (\"Accuracy for learning rate{} : {} %\".format(str(learning_rates[i]), accuracy))\n",
    "    print ('\\n' + \"-------------------------------------------------------\" + '\\n')\n",
    "\n",
    "for i in range(0,len(learning_rates)-1):\n",
    "    plt.plot(np.squeeze(costs_list[i]), label= str(costs_list[i]))\n",
    "\n",
    "plt.ylabel('cost')\n",
    "plt.xlabel('iterations (hundreds)')\n",
    "\n",
    "legend = plt.legend(loc='upper center', shadow=True)\n",
    "frame = legend.get_frame()\n",
    "frame.set_facecolor('0.90')\n",
    "plt.show()"
   ]
  },
  {
   "cell_type": "markdown",
   "metadata": {},
   "source": [
    "##  Gradient checking \n",
    "\n",
    "Backpropagation computes the gradients $\\frac{\\partial J}{\\partial \\theta}$, where $\\theta$ denotes the parameters of the model. $J$ is computed using forward propagation and your loss function.\n",
    "\n",
    "Because forward propagation is relatively easy to implement, you're confident you got that right, and so you're almost  100% sure that you're computing the cost $J$ correctly. Thus, you can use your code for computing $J$ to verify the code for computing $\\frac{\\partial J}{\\partial \\theta}$. \n",
    "\n",
    "Let's look back at the definition of a derivative (or gradient):\n",
    "$$ \\frac{\\partial J}{\\partial \\theta} = \\lim_{\\varepsilon \\to 0} \\frac{J(\\theta + \\varepsilon) - J(\\theta - \\varepsilon)}{2 \\varepsilon} \\tag{1}$$\n",
    "\n",
    "If you're not familiar with the \"$\\displaystyle \\lim_{\\varepsilon \\to 0}$\" notation, it's just a way of saying \"when $\\varepsilon$ is really really small.\"\n",
    "\n",
    "We know the following:\n",
    "\n",
    "- $\\frac{\\partial J}{\\partial \\theta}$ is what you want to make sure you're computing correctly. \n",
    "- You can compute $J(\\theta + \\varepsilon)$ and $J(\\theta - \\varepsilon)$ (in the case that $\\theta$ is a real number), since you're confident your implementation for $J$ is correct. \n",
    "\n",
    "**How does gradient checking work?**.\n",
    "\n",
    "As in 1) and 2), you want to compare \"gradapprox\" to the gradient computed by backpropagation. The formula is still:\n",
    "\n",
    "$$ \\frac{\\partial J}{\\partial \\theta} = \\lim_{\\varepsilon \\to 0} \\frac{J(\\theta + \\varepsilon) - J(\\theta - \\varepsilon)}{2 \\varepsilon} \\tag{1}$$\n",
    "\n",
    "However, $\\theta$ is not a scalar anymore. It is a dictionary called \"parameters\". We implemented a function \"`dictionary_to_vector()`\" for you. It converts the \"parameters\" dictionary into a vector called \"values\", obtained by reshaping all parameters (W1, b1, W2, b2, W3, b3) into vectors and concatenating them.\n",
    "\n",
    "The inverse function is \"`vector_to_dictionary`\" which outputs back the \"parameters\" dictionary.\n",
    "\n",
    "\n",
    "We have also converted the \"gradients\" dictionary into a vector \"grad\" using gradients_to_vector(). You don't need to worry about that.\n",
    "\n",
    "**Exercise**: Implement gradient_check_n().\n",
    "\n",
    "**Instructions**: Here is pseudo-code that will help you implement the gradient check.\n",
    "\n",
    "For each i in num_parameters:\n",
    "- To compute `J_plus[i]`:\n",
    "    1. Set $\\theta^{+}$ to `np.copy(parameters_values)`\n",
    "    2. Set $\\theta^{+}_i$ to $\\theta^{+}_i + \\varepsilon$\n",
    "    3. Calculate $J^{+}_i$ using to `forward_propagation_n(x, y, vector_to_dictionary(`$\\theta^{+}$ `))`.     \n",
    "- To compute `J_minus[i]`: do the same thing with $\\theta^{-}$\n",
    "- Compute $gradapprox[i] = \\frac{J^{+}_i - J^{-}_i}{2 \\varepsilon}$\n",
    "\n",
    "Thus, you get a vector gradapprox, where gradapprox[i] is an approximation of the gradient with respect to `parameter_values[i]`. You can now compare this gradapprox vector to the gradients vector from backpropagation. Just like for the 1D case (Steps 1', 2', 3'), compute: \n",
    "$$ difference = \\frac {\\| grad - gradapprox \\|_2}{\\| grad \\|_2 + \\| gradapprox \\|_2 } \\tag{3}$$"
   ]
  },
  {
   "cell_type": "code",
   "execution_count": 102,
   "metadata": {},
   "outputs": [],
   "source": [
    "# GRADED FUNCTION: gradient_check_n\n",
    "\n",
    "def gradient_check_n(parameters, gradients, X, Y, epsilon = 1e-7):\n",
    "    \"\"\"\n",
    "    Checks if backward_propagation_n computes correctly the gradient of the cost output by forward_propagation_n\n",
    "    \n",
    "    Arguments:\n",
    "    parameters -- python dictionary containing your parameters \"W1\", \"b1\", \"W2\", \"b2\", \"W3\", \"b3\":\n",
    "    grad -- output of backward_propagation_n, contains gradients of the cost with respect to the parameters. \n",
    "    x -- input datapoint, of shape (input size, 1)\n",
    "    y -- true \"label\"\n",
    "    epsilon -- tiny shift to the input to compute approximated gradient with formula(1)\n",
    "    \n",
    "    Returns:\n",
    "    difference -- difference (2) between the approximated gradient and the backward propagation gradient\n",
    "    \"\"\"\n",
    "    \n",
    "    # Set-up variables\n",
    "    parameters_values, _ = dictionary_to_vector(parameters)\n",
    "    grad = gradients_to_vector(gradients)\n",
    "    num_parameters = parameters_values.shape[0]\n",
    "    J_plus = np.zeros((num_parameters, 1))\n",
    "    J_minus = np.zeros((num_parameters, 1))\n",
    "    gradapprox = np.zeros((num_parameters, 1))\n",
    "    \n",
    "    # Compute gradapprox\n",
    "    for i in range(num_parameters):\n",
    "        \n",
    "        # Compute J_plus[i]. Inputs: \"parameters_values, epsilon\". Output = \"J_plus[i]\".\n",
    "        # \"_\" is used because the function you have to outputs two parameters but we only care about the first one\n",
    "        ### START CODE HERE ### (approx. 3 lines)\n",
    "        thetaplus =np.copy(parameters_values)                                      # Step 1\n",
    "        thetaplus[i][0] = thetaplus[i][0] + epsilon                                  # Step 2\n",
    "        J_plus[i], _ =  forward_propagation_n(X, Y, vector_to_dictionary(thetaplus))                                   # Step 3\n",
    "        ### END CODE HERE ###\n",
    "        \n",
    "        # Compute J_minus[i]. Inputs: \"parameters_values, epsilon\". Output = \"J_minus[i]\".\n",
    "        ### START CODE HERE ### (approx. 3 lines)\n",
    "        thetaminus = np.copy(parameters_values)                                      # Step 1\n",
    "        thetaminus[i][0] = thetaminus[i][0] - epsilon                               # Step 2        \n",
    "        J_minus[i], _ = forward_propagation_n(X, Y, vector_to_dictionary(thetaminus))                                  # Step 3\n",
    "        ### END CODE HERE ###\n",
    "        \n",
    "        # Compute gradapprox[i]\n",
    "        ### START CODE HERE ### (approx. 1 line)\n",
    "        gradapprox[i] = (J_plus[i] - J_minus[i]) / (2 * epsilon)\n",
    "        ### END CODE HERE ###\n",
    "    \n",
    "    # Compare gradapprox to backward propagation gradients by computing difference.\n",
    "    ### START CODE HERE ### (approx. 1 line)\n",
    "    numerator = np.linalg.norm(grad - gradapprox)                                           # Step 1'\n",
    "    denominator = np.linalg.norm(grad) + np.linalg.norm(gradapprox)                                         # Step 2'\n",
    "    difference = numerator / denominator                                          # Step 3'\n",
    "    ### END CODE HERE ###\n",
    "\n",
    "    if difference > 2e-7:\n",
    "        print (\"\\033[93m\" + \"There is a mistake in the backward propagation! difference = \" + str(difference) + \"\\033[0m\")\n",
    "    else:\n",
    "        print (\"\\033[92m\" + \"Your backward propagation works perfectly fine! difference = \" + str(difference) + \"\\033[0m\")\n",
    "    \n",
    "    return difference"
   ]
  },
  {
   "cell_type": "code",
   "execution_count": 178,
   "metadata": {},
   "outputs": [
    {
     "ename": "ValueError",
     "evalue": "shapes (20,4096) and (3,4096) not aligned: 4096 (dim 1) != 3 (dim 0)",
     "output_type": "error",
     "traceback": [
      "\u001b[1;31m---------------------------------------------------------------------------\u001b[0m",
      "\u001b[1;31mValueError\u001b[0m                                Traceback (most recent call last)",
      "\u001b[1;32m<ipython-input-178-9e32465e26db>\u001b[0m in \u001b[0;36m<module>\u001b[1;34m()\u001b[0m\n\u001b[0;32m      1\u001b[0m \u001b[1;34m\"\"\"Train the model after regularization\"\"\"\u001b[0m\u001b[1;33m\u001b[0m\u001b[0m\n\u001b[1;32m----> 2\u001b[1;33m \u001b[0mparameters\u001b[0m\u001b[1;33m,\u001b[0m\u001b[0mcosts\u001b[0m \u001b[1;33m=\u001b[0m \u001b[0mL_layer_model\u001b[0m\u001b[1;33m(\u001b[0m\u001b[0mX_train\u001b[0m\u001b[1;33m,\u001b[0m \u001b[0my_train\u001b[0m\u001b[1;33m,\u001b[0m \u001b[0mlayers_dims\u001b[0m\u001b[1;33m,\u001b[0m \u001b[0mlearning_rate\u001b[0m \u001b[1;33m=\u001b[0m \u001b[1;36m0.075\u001b[0m\u001b[1;33m,\u001b[0m \u001b[0mnum_iterations\u001b[0m \u001b[1;33m=\u001b[0m \u001b[1;36m1400\u001b[0m\u001b[1;33m,\u001b[0m \u001b[0mprint_cost\u001b[0m \u001b[1;33m=\u001b[0m \u001b[1;32mTrue\u001b[0m\u001b[1;33m,\u001b[0m\u001b[0mlambd\u001b[0m \u001b[1;33m=\u001b[0m \u001b[1;36m0\u001b[0m\u001b[1;33m,\u001b[0m\u001b[0mkeep_prob\u001b[0m\u001b[1;33m=\u001b[0m\u001b[1;36m1\u001b[0m\u001b[1;33m,\u001b[0m\u001b[0mgrad_check\u001b[0m\u001b[1;33m=\u001b[0m\u001b[1;32mTrue\u001b[0m\u001b[1;33m)\u001b[0m\u001b[1;33m\u001b[0m\u001b[0m\n\u001b[0m",
      "\u001b[1;32m<ipython-input-157-bb1b26ff3782>\u001b[0m in \u001b[0;36mL_layer_model\u001b[1;34m(X, Y, layers_dims, learning_rate, num_iterations, print_cost, lambd, keep_prob, grad_check)\u001b[0m\n\u001b[0;32m     28\u001b[0m         \u001b[1;31m### START CODE HERE ### (≈ 1 line of code)\u001b[0m\u001b[1;33m\u001b[0m\u001b[1;33m\u001b[0m\u001b[0m\n\u001b[0;32m     29\u001b[0m         \u001b[1;32mif\u001b[0m \u001b[0mkeep_prob\u001b[0m \u001b[1;33m==\u001b[0m \u001b[1;36m1\u001b[0m\u001b[1;33m:\u001b[0m\u001b[1;33m\u001b[0m\u001b[0m\n\u001b[1;32m---> 30\u001b[1;33m             \u001b[0mAL\u001b[0m\u001b[1;33m,\u001b[0m \u001b[0mcaches\u001b[0m \u001b[1;33m=\u001b[0m \u001b[0mL_model_forward\u001b[0m\u001b[1;33m(\u001b[0m\u001b[0mX\u001b[0m\u001b[1;33m,\u001b[0m\u001b[0mparameters\u001b[0m\u001b[1;33m,\u001b[0m\u001b[0mkeep_prob\u001b[0m\u001b[1;33m)\u001b[0m\u001b[1;33m\u001b[0m\u001b[0m\n\u001b[0m\u001b[0;32m     31\u001b[0m         \u001b[1;32melif\u001b[0m \u001b[0mkeep_prob\u001b[0m \u001b[1;33m<\u001b[0m \u001b[1;36m1\u001b[0m\u001b[1;33m:\u001b[0m\u001b[1;33m\u001b[0m\u001b[0m\n\u001b[0;32m     32\u001b[0m             \u001b[0mAL\u001b[0m\u001b[1;33m,\u001b[0m \u001b[0mcaches\u001b[0m \u001b[1;33m=\u001b[0m \u001b[0mL_model_forward\u001b[0m\u001b[1;33m(\u001b[0m\u001b[0mX\u001b[0m\u001b[1;33m,\u001b[0m\u001b[0mparameters\u001b[0m\u001b[1;33m,\u001b[0m\u001b[0mkeep_prob\u001b[0m\u001b[1;33m)\u001b[0m\u001b[1;33m\u001b[0m\u001b[0m\n",
      "\u001b[1;32m<ipython-input-131-03adf842c8b4>\u001b[0m in \u001b[0;36mL_model_forward\u001b[1;34m(X, parameters, keep_prob)\u001b[0m\n\u001b[0;32m     23\u001b[0m \u001b[1;33m\u001b[0m\u001b[0m\n\u001b[0;32m     24\u001b[0m         \u001b[1;31m### START CODE HERE ### (≈ 2 lines of code)\u001b[0m\u001b[1;33m\u001b[0m\u001b[1;33m\u001b[0m\u001b[0m\n\u001b[1;32m---> 25\u001b[1;33m         \u001b[0mA\u001b[0m\u001b[1;33m,\u001b[0m \u001b[0mcache\u001b[0m \u001b[1;33m=\u001b[0m \u001b[0mlinear_activation_forward\u001b[0m\u001b[1;33m(\u001b[0m\u001b[0mA_prev\u001b[0m\u001b[1;33m,\u001b[0m\u001b[0mparameters\u001b[0m\u001b[1;33m[\u001b[0m\u001b[1;34m'W'\u001b[0m\u001b[1;33m+\u001b[0m\u001b[0mstr\u001b[0m\u001b[1;33m(\u001b[0m\u001b[0ml\u001b[0m\u001b[1;33m)\u001b[0m\u001b[1;33m]\u001b[0m\u001b[1;33m,\u001b[0m \u001b[0mparameters\u001b[0m\u001b[1;33m[\u001b[0m\u001b[1;34m'b'\u001b[0m\u001b[1;33m+\u001b[0m\u001b[0mstr\u001b[0m\u001b[1;33m(\u001b[0m\u001b[0ml\u001b[0m\u001b[1;33m)\u001b[0m\u001b[1;33m]\u001b[0m\u001b[1;33m,\u001b[0m \u001b[0mactivation\u001b[0m\u001b[1;33m=\u001b[0m\u001b[1;34m'relu'\u001b[0m\u001b[1;33m,\u001b[0m\u001b[0mkeep_prob\u001b[0m\u001b[1;33m=\u001b[0m\u001b[0mkeep_probtmp\u001b[0m\u001b[1;33m)\u001b[0m\u001b[1;33m\u001b[0m\u001b[0m\n\u001b[0m\u001b[0;32m     26\u001b[0m         \u001b[0mcaches\u001b[0m\u001b[1;33m.\u001b[0m\u001b[0mappend\u001b[0m\u001b[1;33m(\u001b[0m\u001b[0mcache\u001b[0m\u001b[1;33m)\u001b[0m\u001b[1;33m\u001b[0m\u001b[0m\n\u001b[0;32m     27\u001b[0m         \u001b[1;31m### END CODE HERE ###\u001b[0m\u001b[1;33m\u001b[0m\u001b[1;33m\u001b[0m\u001b[0m\n",
      "\u001b[1;32m<ipython-input-130-a46284238429>\u001b[0m in \u001b[0;36mlinear_activation_forward\u001b[1;34m(A_prev, W, b, activation, keep_prob)\u001b[0m\n\u001b[0;32m     26\u001b[0m         \u001b[1;31m# Inputs: \"A_prev, W, b\". Outputs: \"A, activation_cache\".\u001b[0m\u001b[1;33m\u001b[0m\u001b[1;33m\u001b[0m\u001b[0m\n\u001b[0;32m     27\u001b[0m         \u001b[1;31m### START CODE HERE ### (≈ 2 lines of code)\u001b[0m\u001b[1;33m\u001b[0m\u001b[1;33m\u001b[0m\u001b[0m\n\u001b[1;32m---> 28\u001b[1;33m         \u001b[0mZ\u001b[0m\u001b[1;33m,\u001b[0m \u001b[0mlinear_cache\u001b[0m \u001b[1;33m=\u001b[0m \u001b[0mlinear_forward\u001b[0m\u001b[1;33m(\u001b[0m\u001b[0mA_prev\u001b[0m\u001b[1;33m,\u001b[0m\u001b[0mW\u001b[0m\u001b[1;33m,\u001b[0m\u001b[0mb\u001b[0m\u001b[1;33m)\u001b[0m\u001b[1;33m\u001b[0m\u001b[0m\n\u001b[0m\u001b[0;32m     29\u001b[0m         \u001b[0mA\u001b[0m\u001b[1;33m,\u001b[0m \u001b[0mactivation_cache\u001b[0m \u001b[1;33m=\u001b[0m \u001b[0mrelu\u001b[0m\u001b[1;33m(\u001b[0m\u001b[0mZ\u001b[0m\u001b[1;33m)\u001b[0m\u001b[1;33m\u001b[0m\u001b[0m\n\u001b[0;32m     30\u001b[0m         \u001b[1;31m# Dropout\u001b[0m\u001b[1;33m\u001b[0m\u001b[1;33m\u001b[0m\u001b[0m\n",
      "\u001b[1;32m<ipython-input-129-840d2f459bbb>\u001b[0m in \u001b[0;36mlinear_forward\u001b[1;34m(A, W, b)\u001b[0m\n\u001b[0;32m     13\u001b[0m     \"\"\"\n\u001b[0;32m     14\u001b[0m \u001b[1;33m\u001b[0m\u001b[0m\n\u001b[1;32m---> 15\u001b[1;33m     \u001b[0mZ\u001b[0m \u001b[1;33m=\u001b[0m \u001b[0mnp\u001b[0m\u001b[1;33m.\u001b[0m\u001b[0mdot\u001b[0m\u001b[1;33m(\u001b[0m\u001b[0mW\u001b[0m\u001b[1;33m,\u001b[0m\u001b[0mA\u001b[0m\u001b[1;33m)\u001b[0m\u001b[1;33m+\u001b[0m\u001b[0mb\u001b[0m\u001b[1;33m\u001b[0m\u001b[0m\n\u001b[0m\u001b[0;32m     16\u001b[0m \u001b[1;33m\u001b[0m\u001b[0m\n\u001b[0;32m     17\u001b[0m     \u001b[1;32massert\u001b[0m\u001b[1;33m(\u001b[0m\u001b[0mZ\u001b[0m\u001b[1;33m.\u001b[0m\u001b[0mshape\u001b[0m \u001b[1;33m==\u001b[0m \u001b[1;33m(\u001b[0m\u001b[0mW\u001b[0m\u001b[1;33m.\u001b[0m\u001b[0mshape\u001b[0m\u001b[1;33m[\u001b[0m\u001b[1;36m0\u001b[0m\u001b[1;33m]\u001b[0m\u001b[1;33m,\u001b[0m \u001b[0mA\u001b[0m\u001b[1;33m.\u001b[0m\u001b[0mshape\u001b[0m\u001b[1;33m[\u001b[0m\u001b[1;36m1\u001b[0m\u001b[1;33m]\u001b[0m\u001b[1;33m)\u001b[0m\u001b[1;33m)\u001b[0m\u001b[1;33m\u001b[0m\u001b[0m\n",
      "\u001b[1;31mValueError\u001b[0m: shapes (20,4096) and (3,4096) not aligned: 4096 (dim 1) != 3 (dim 0)"
     ]
    }
   ],
   "source": [
    "\"\"\"Train the model after regularization\"\"\"\n",
    "parameters,costs = L_layer_model(X_train, y_train, layers_dims, learning_rate = 0.075, num_iterations = 1400, print_cost = True,lambd = 0,keep_prob=1,grad_check=True)"
   ]
  },
  {
   "cell_type": "markdown",
   "metadata": {},
   "source": [
    "# Normal NN on Keras \n",
    "\n",
    "Keras is a high-level neural networks API, written in Python and capable of running on top of TensorFlow, CNTK, or Theano. It was developed with a focus on enabling fast experimentation. Being able to go from idea to result with the least possible delay is key to doing good research.This is possible in Keras because we can “wrap” any neural network such that it can use the evaluation features available in scikit-learn, including k-fold cross-validation. \n",
    "\n",
    "**Steps:**\n",
    "\n",
    "   - Create a function that returns a compiled neural network. \n",
    "   - Use KerasClassifier (if we have a classifier, if we have a regressor we can use KerasRegressor) to wrap the model so it can be used by scikit-learn. \n",
    "   - Use our cross_val_score to run a k-fold cross-validation on our neural network."
   ]
  },
  {
   "cell_type": "code",
   "execution_count": 90,
   "metadata": {},
   "outputs": [],
   "source": [
    "# Load libraries\n",
    "import numpy as np\n",
    "from keras import models\n",
    "from keras import optimizers\n",
    "from keras import layers\n",
    "from keras.wrappers.scikit_learn import KerasClassifier\n",
    "from sklearn.model_selection import cross_val_score\n",
    "from sklearn.datasets import make_classification\n",
    "\n",
    "# Set random seed\n",
    "np.random.seed(0)"
   ]
  },
  {
   "cell_type": "code",
   "execution_count": 91,
   "metadata": {},
   "outputs": [],
   "source": [
    "# Number of features\n",
    "number_of_features = 4096\n",
    "# Generate features matrix and target vector\n",
    "features, target = make_classification(n_samples = 1144,\n",
    "                                       n_features = number_of_features,\n",
    "                                       n_informative = 3,\n",
    "                                       n_redundant = 0,\n",
    "                                       n_classes = 2,\n",
    "                                       weights = [.5, .5],\n",
    "                                       random_state = 0)"
   ]
  },
  {
   "cell_type": "code",
   "execution_count": 26,
   "metadata": {},
   "outputs": [],
   "source": [
    "# Create function returning a compiled network\n",
    "def create_network():\n",
    "    \n",
    "    # Start neural network\n",
    "    network = models.Sequential()\n",
    "\n",
    "    # Add fully connected layer with a ReLU activation function\n",
    "    network.add(layers.Dense(units=20, activation='relu', input_shape=(number_of_features,)))\n",
    "    \n",
    "    # Add fully connected layer with a ReLU activation function\n",
    "    network.add(layers.Dense(units=7, activation='relu'))\n",
    "\n",
    "    # Add fully connected layer with a ReLU activation function\n",
    "    network.add(layers.Dense(units=5, activation='relu'))\n",
    "\n",
    "    # Add fully connected layer with a sigmoid activation function\n",
    "    network.add(layers.Dense(units=1, activation='sigmoid'))\n",
    "\n",
    "    # Compile neural network\n",
    "    network.compile(loss='binary_crossentropy', # Cross-entropy\n",
    "                    optimizer='rmsprop', # Root Mean Square Propagation\n",
    "                    metrics=['accuracy']) # Accuracy performance metric\n",
    "    network.compile(loss='categorical_crossentropy', optimizer=sgd,metrics=['accuracy'])\n",
    "    # Return compiled network\n",
    "    return network"
   ]
  },
  {
   "cell_type": "code",
   "execution_count": 85,
   "metadata": {},
   "outputs": [],
   "source": [
    "# Wrap Keras model so it can be used by scikit-learn\n",
    "neural_network = KerasClassifier(build_fn=create_network, \n",
    "                                 epochs=5000, \n",
    "                                 batch_size=100, \n",
    "                                 verbose=0)"
   ]
  },
  {
   "cell_type": "code",
   "execution_count": 86,
   "metadata": {},
   "outputs": [
    {
     "data": {
      "text/plain": [
       "array([0.77486913, 0.76902886, 0.73490814])"
      ]
     },
     "execution_count": 86,
     "metadata": {},
     "output_type": "execute_result"
    }
   ],
   "source": [
    "# Prediction of accuracy in folds of 3\n",
    "cross_val_score(neural_network,train_x_flatten.T, train_y.T, cv=3)"
   ]
  },
  {
   "cell_type": "markdown",
   "metadata": {},
   "source": [
    "# Adam algorithm and learning rate decay"
   ]
  },
  {
   "cell_type": "code",
   "execution_count": 92,
   "metadata": {},
   "outputs": [],
   "source": [
    "#Try Adam as optimizer and implement time-based learning rate decay lr *= (1. / (1. + self.decay * self.iterations))\n",
    "def create_network():\n",
    "    \n",
    "    # Start neural network\n",
    "    network = models.Sequential()\n",
    "\n",
    "    # Add fully connected layer with a ReLU activation function\n",
    "    network.add(layers.Dense(units=20, activation='relu', input_shape=(number_of_features,)))\n",
    "    \n",
    "    # Add fully connected layer with a ReLU activation function\n",
    "    network.add(layers.Dense(units=7, activation='relu'))\n",
    "\n",
    "    # Add fully connected layer with a ReLU activation function\n",
    "    network.add(layers.Dense(units=5, activation='relu'))\n",
    "\n",
    "    # Add fully connected layer with a sigmoid activation function\n",
    "    network.add(layers.Dense(units=1, activation='sigmoid'))\n",
    "    \n",
    "    # Setup hyperparameters for Adam optimizer\n",
    "    Adam = optimizers.Adam(lr=0.0075, beta_1=0.9, beta_2=0.999, epsilon=None, decay=1e-6, amsgrad=False)\n",
    "    \n",
    "    # Compile neural network\n",
    "    network.compile(loss='binary_crossentropy', # Cross-entropy\n",
    "                    optimizer= Adam, # Root Mean Square Propagation\n",
    "                    metrics=['accuracy']) # Accuracy performance metric\n",
    "  \n",
    "    # Return compiled network\n",
    "    return network"
   ]
  },
  {
   "cell_type": "code",
   "execution_count": 93,
   "metadata": {},
   "outputs": [],
   "source": [
    "# Wrap Keras model so it can be used by scikit-learn\n",
    "neural_network_Adam = KerasClassifier(build_fn=create_network, \n",
    "                                 epochs=5000, \n",
    "                                 batch_size=100, \n",
    "                                 verbose=0)"
   ]
  },
  {
   "cell_type": "code",
   "execution_count": 94,
   "metadata": {},
   "outputs": [
    {
     "data": {
      "text/plain": [
       "array([0.83246073, 0.76115484, 0.74015749])"
      ]
     },
     "execution_count": 94,
     "metadata": {},
     "output_type": "execute_result"
    }
   ],
   "source": [
    "# Prediction of accuracy in folds of 3\n",
    "cross_val_score(neural_network_Adam,train_x_flatten.T, train_y.T, cv=3)"
   ]
  },
  {
   "cell_type": "markdown",
   "metadata": {},
   "source": [
    "# Data Augmentation\n",
    "\n",
    "- Use non-linear units like ReLU to improve your model\n",
    "- Build a deeper neural network (with more than 1 hidden layer)\n",
    "\n",
    "**After this segment you will be able to:**\n",
    "- Use non-linear units like ReLU to improve your model\n",
    "- Build a deeper neural network (with more than 1 hidden layer)\n",
    "- Implement an easy-to-use neural network class\n",
    "\n",
    "**Notation**:\n",
    "- Superscript $[l]$ denotes a quantity associated with the $l^{th}$ layer. \n",
    "    - Example: $a^{[L]}$ is the $L^{th}$ layer activation. $W^{[L]}$ and $b^{[L]}$ are the $L^{th}$ layer parameters.\n",
    "- Superscript $(i)$ denotes a quantity associated with the $i^{th}$ example. \n",
    "    - Example: $x^{(i)}$ is the $i^{th}$ training example.\n",
    "- Lowerscript $i$ denotes the $i^{th}$ entry of a vector.\n",
    "    - Example: $a^{[l]}_i$ denotes the $i^{th}$ entry of the $l^{th}$ layer's activations).\n",
    "\n",
    "<font color=black size=3 face=\"aria\">  </font>\n",
    "\n",
    "Codes based on Andrew N.g's model code\n",
    "\n",
    "Implementing the $L$-layer Neural Net, we design a function that replicates(`linear_activation_forward` with RELU) $L-1$ times, then follows that with one `linear_activation_forward` with SIGMOID.\n",
    "\n",
    "- **Sigmoid**: $\\sigma(Z) = \\sigma(W A + b) = \\frac{1}{ 1 + e^{-(W A + b)}}$. We have provided you with the `sigmoid` function. This function returns **two** items: the activation value \"`a`\" and a \"`cache`\" that contains \"`Z`\" (it's what we will feed in to the corresponding backward function). To use it you could just call: \n",
    "``` python\n",
    "A, activation_cache = sigmoid(Z)\n",
    "```\n",
    "\n",
    "- **ReLU**: The mathematical formula for ReLu is $A = RELU(Z) = max(0, Z)$. We have provided you with the `relu` function. This function returns **two** items: the activation value \"`A`\" and a \"`cache`\" that contains \"`Z`\" (it's what we will feed in to the corresponding backward function). To use it you could just call:\n",
    "``` python\n",
    "A, activation_cache = relu(Z)\n",
    "\n",
    "\n",
    "\n",
    "\n",
    "**Steps**:\n",
    "- Use the functions you had previously written \n",
    "- Use a for loop to replicate [LINEAR->RELU] (L-1) times\n",
    "- Don't forget to keep track of the caches in the \"caches\" list. To add a new value `c` to a `list`, you can use `list.append(c)`."
   ]
  },
  {
   "cell_type": "code",
   "execution_count": null,
   "metadata": {},
   "outputs": [],
   "source": [
    "if not data_augmentation:\n",
    "    print('Not using data augmentation.')\n",
    "    model.fit(X_train, Y_train,\n",
    "              batch_size=batch_size,\n",
    "              nb_epoch=nb_epoch,\n",
    "              validation_data=(X_test, Y_test),\n",
    "shuffle=True)\n",
    "\n",
    "else:\n",
    "    print('Using real-time data augmentation.')\n",
    "\n",
    "    datagen = ImageDataGenerator(              #1\n",
    "        featurewise_center=False,  \n",
    "        samplewise_center=False,  \n",
    "        featurewise_std_normalization=False,  \n",
    "        samplewise_std_normalization=False,  \n",
    "        zca_whitening=False,  \n",
    "        rotation_range=0, \n",
    "        width_shift_range=0.1, \n",
    "        height_shift_range=0.1, \n",
    "        horizontal_flip=True, \n",
    "        vertical_flip=False)\n",
    "\n",
    "    datagen.fit(X_train)                       #2\n",
    "\n",
    "    model.fit_generator(datagen.flow(X_train, Y_train,    #3\n",
    "                        batch_size=batch_size),\n",
    "                        samples_per_epoch=X_train.shape[0],\n",
    "                        nb_epoch=nb_epoch,\n",
    "                        validation_data=(X_test, Y_test)) "
   ]
  },
  {
   "cell_type": "markdown",
   "metadata": {},
   "source": [
    "# Coarse to fine"
   ]
  },
  {
   "cell_type": "code",
   "execution_count": null,
   "metadata": {},
   "outputs": [],
   "source": []
  },
  {
   "cell_type": "markdown",
   "metadata": {},
   "source": [
    "# Error analysis\n"
   ]
  },
  {
   "cell_type": "code",
   "execution_count": null,
   "metadata": {},
   "outputs": [],
   "source": []
  }
 ],
 "metadata": {
  "kernelspec": {
   "display_name": "Python 3",
   "language": "python",
   "name": "python3"
  },
  "language_info": {
   "codemirror_mode": {
    "name": "ipython",
    "version": 3
   },
   "file_extension": ".py",
   "mimetype": "text/x-python",
   "name": "python",
   "nbconvert_exporter": "python",
   "pygments_lexer": "ipython3",
   "version": "3.6.5"
  }
 },
 "nbformat": 4,
 "nbformat_minor": 2
}
